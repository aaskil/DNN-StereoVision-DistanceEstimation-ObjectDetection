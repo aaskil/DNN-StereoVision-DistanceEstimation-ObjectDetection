{
 "cells": [
  {
   "cell_type": "code",
   "execution_count": 2,
   "metadata": {},
   "outputs": [
    {
     "name": "stdout",
     "output_type": "stream",
     "text": [
      "Ultralytics YOLOv8.2.25 🚀 Python-3.11.7 torch-2.3.1 CPU (Apple M1 Pro)\n",
      "Setup complete ✅ (10 CPUs, 16.0 GB RAM, 676.6/926.4 GB disk)\n"
     ]
    }
   ],
   "source": [
    "from ultralytics import YOLO\n",
    "import os\n",
    "import cv2\n",
    "import ultralytics\n",
    "import pandas as pd\n",
    "import numpy as np\n",
    "import json\n",
    "ultralytics.checks()"
   ]
  },
  {
   "cell_type": "code",
   "execution_count": 5,
   "metadata": {},
   "outputs": [],
   "source": [
    "with open('../../config.json') as f:\n",
    "    config = json.load(f)\n",
    "BASE_DIR = config[\"BASE_DIR_SEG_WIN\"]\n",
    "# BASE_DIR = config[\"BASE_DIR_SEG_MAC\"]"
   ]
  },
  {
   "cell_type": "code",
   "execution_count": null,
   "metadata": {},
   "outputs": [],
   "source": [
    "# DEVICE = 'cpu'\n",
    "DEVICE = 'cuda'"
   ]
  },
  {
   "cell_type": "code",
   "execution_count": null,
   "metadata": {},
   "outputs": [],
   "source": [
    "pd.read_html('https://docs.ultralytics.com/models/yolov8/#supported-tasks-and-modes')[3]"
   ]
  },
  {
   "cell_type": "code",
   "execution_count": null,
   "metadata": {},
   "outputs": [],
   "source": [
    "# show labels in the model\n",
    "model = YOLO('yolov8n-seg.pt')\n",
    "print(model.names)"
   ]
  },
  {
   "cell_type": "markdown",
   "metadata": {},
   "source": [
    "# scape.v2i.yolov8 50 bechmark"
   ]
  },
  {
   "cell_type": "markdown",
   "metadata": {},
   "source": [
    "## Training"
   ]
  },
  {
   "cell_type": "markdown",
   "metadata": {},
   "source": [
    "### Hyperparameter set 1"
   ]
  },
  {
   "cell_type": "code",
   "execution_count": null,
   "metadata": {},
   "outputs": [],
   "source": [
    "YAML_FILE = os.path.join(BASE_DIR, \"scape.v2i.yolov8\\data.yaml\")\n",
    "\n",
    "yolo_models: dict = {\n",
    "    'yolov8 nano': 'yolov8n-seg.pt',\n",
    "    'yolov8 small': 'yolov8s-seg.pt',\n",
    "    'yolov8 medium': 'yolov8m-seg.pt',\n",
    "    'yolov8 large': 'yolov8l-seg.pt',\n",
    "    'yolov8 xlarge': 'yolov8x-seg.pt',\n",
    "}\n",
    "\n",
    "for model_name, model_file in yolo_models.items():\n",
    "    print(f\"Training {model_name}\")\n",
    "    model = YOLO(model_file)\n",
    "    model.train(\n",
    "        data=YAML_FILE,\n",
    "        epochs=50, \n",
    "        batch=16,\n",
    "        seed = 0,\n",
    "        save=True,\n",
    "        save_period=False, \n",
    "        project= os.path.join(BASE_DIR, 'scape.v2i.yolov8/50_benchmark'),\n",
    "        name= f'{model_name}_exp',\n",
    "        device= DEVICE,\n",
    "        single_cls=False,\n",
    "        )"
   ]
  },
  {
   "cell_type": "code",
   "execution_count": null,
   "metadata": {},
   "outputs": [],
   "source": [
    "YAML_FILE = os.path.join(BASE_DIR, \"scape.v2i.yolov8\\data.yaml\")\n",
    "\n",
    "yolo_models: dict = {\n",
    "    'yolov9 c': 'yolov9c-seg.pt',\n",
    "    # 'yolov9 e': 'yolov9e-seg.pt',\n",
    "}\n",
    "\n",
    "for model_name, model_file in yolo_models.items():\n",
    "    print(f\"Training {model_name}\")\n",
    "    model = YOLO(model_file)\n",
    "    model.train(\n",
    "        data=YAML_FILE,\n",
    "        epochs=50,\n",
    "        batch=16,\n",
    "        seed = 0,\n",
    "        save=True,\n",
    "        save_period=False, \n",
    "        project= os.path.join(BASE_DIR, 'scape.v2i.yolov8/50_benchmark'),\n",
    "        name= f'{model_name}_exp',\n",
    "        device= DEVICE,\n",
    "        single_cls=False,\n",
    "        )"
   ]
  },
  {
   "cell_type": "markdown",
   "metadata": {},
   "source": [
    "### Hyperparameter set 2"
   ]
  },
  {
   "cell_type": "code",
   "execution_count": null,
   "metadata": {},
   "outputs": [],
   "source": [
    "YAML_FILE = os.path.join(BASE_DIR, \"scape.v2i.yolov8\\data.yaml\")\n",
    "\n",
    "yolo_models: dict = {\n",
    "    'yolov8 nano': 'yolov8n-seg.pt',\n",
    "    'yolov8 small': 'yolov8s-seg.pt',\n",
    "    'yolov8 medium': 'yolov8m-seg.pt',\n",
    "    'yolov8 large': 'yolov8l-seg.pt',\n",
    "    'yolov8 xlarge': 'yolov8x-seg.pt',\n",
    "}\n",
    "\n",
    "for model_name, model_file in yolo_models.items():\n",
    "    print(f\"Training {model_name}\")\n",
    "    model = YOLO(model_file)\n",
    "    model.train(\n",
    "        data=YAML_FILE,\n",
    "        epochs=200,\n",
    "        batch=8,\n",
    "        seed = 0,\n",
    "        save=True,\n",
    "        save_period=False,\n",
    "        project= os.path.join(BASE_DIR, 'scape.v2i.yolov8/50_benchmark'),\n",
    "        name= f'{model_name}_exp',\n",
    "        device= DEVICE,\n",
    "        single_cls=False,\n",
    "        )"
   ]
  },
  {
   "cell_type": "code",
   "execution_count": null,
   "metadata": {},
   "outputs": [],
   "source": [
    "YAML_FILE = os.path.join(BASE_DIR, \"scape.v2i.yolov8\\data.yaml\")\n",
    "\n",
    "yolo_models: dict = {\n",
    "    'yolov9 c': 'yolov9c-seg.pt',\n",
    "    # 'yolov9 e': 'yolov9e-seg.pt',\n",
    "}\n",
    "\n",
    "for model_name, model_file in yolo_models.items():\n",
    "    print(f\"Training {model_name}\")\n",
    "    model = YOLO(model_file)\n",
    "    model.train(\n",
    "        data=YAML_FILE,\n",
    "        epochs=200,\n",
    "        batch=8,\n",
    "        seed = 0,\n",
    "        save=True,\n",
    "        save_period=False,\n",
    "        project= os.path.join(BASE_DIR, 'scape.v2i.yolov8/50_benchmark'),\n",
    "        name= f'{model_name}_exp',\n",
    "        device= DEVICE,\n",
    "        single_cls=False,\n",
    "        )"
   ]
  },
  {
   "cell_type": "markdown",
   "metadata": {},
   "source": [
    "# scape.v3i.yolov8-augmented 200 Augmented"
   ]
  },
  {
   "cell_type": "markdown",
   "metadata": {},
   "source": [
    "## Training"
   ]
  },
  {
   "cell_type": "markdown",
   "metadata": {},
   "source": [
    "### Hyperparameter set 1"
   ]
  },
  {
   "cell_type": "code",
   "execution_count": null,
   "metadata": {},
   "outputs": [],
   "source": [
    "YAML_FILE = os.path.join(BASE_DIR, \"scape.v3i.yolov8-augmented\\data.yaml\")\n",
    "\n",
    "yolo_models: dict = {\n",
    "    'yolov8 nano': 'yolov8n-seg.pt',\n",
    "    'yolov8 small': 'yolov8s-seg.pt',\n",
    "    'yolov8 medium': 'yolov8m-seg.pt',\n",
    "    'yolov8 large': 'yolov8l-seg.pt',\n",
    "    'yolov8 xlarge': 'yolov8x-seg.pt',\n",
    "}\n",
    "\n",
    "for model_name, model_file in yolo_models.items():\n",
    "    print(f\"Training {model_name}\")\n",
    "    model = YOLO(model_file)\n",
    "    model.train(\n",
    "        data=YAML_FILE,\n",
    "        epochs=200,\n",
    "        batch=8,\n",
    "        seed = 0,\n",
    "        save=True,\n",
    "        save_period=False,\n",
    "        project= os.path.join(BASE_DIR, 'scape.v3i.yolov8-augmented/200_benchmark_augmented'),\n",
    "        name= f'{model_name}_exp',\n",
    "        device= DEVICE,\n",
    "        single_cls=False,\n",
    "        )"
   ]
  },
  {
   "cell_type": "code",
   "execution_count": null,
   "metadata": {},
   "outputs": [],
   "source": [
    "YAML_FILE = os.path.join(BASE_DIR, \"scape.v3i.yolov9-augmented\\data.yaml\")\n",
    "\n",
    "yolo_models: dict = {\n",
    "    'yolov9 c': 'yolov9c-seg.pt',\n",
    "    # 'yolov9 e': 'yolov9e-seg.pt',\n",
    "}\n",
    "\n",
    "for model_name, model_file in yolo_models.items():\n",
    "    print(f\"Training {model_name}\")\n",
    "    model = YOLO(model_file)\n",
    "    model.train(\n",
    "        data=YAML_FILE,\n",
    "        epochs=200,\n",
    "        batch=8,\n",
    "        seed = 0,\n",
    "        save=True,\n",
    "        save_period=False,\n",
    "        project= os.path.join(BASE_DIR, 'scape.v3i.yolov8-augmented/200_benchmark_augmented'),\n",
    "        name= f'{model_name}_exp',\n",
    "        device= DEVICE,\n",
    "        single_cls=False,\n",
    "        )"
   ]
  },
  {
   "cell_type": "markdown",
   "metadata": {},
   "source": [
    "### Hyperparameter set 2"
   ]
  },
  {
   "cell_type": "code",
   "execution_count": null,
   "metadata": {},
   "outputs": [],
   "source": [
    "YAML_FILE = os.path.join(BASE_DIR, \"scape.v3i.yolov8-augmented\\data.yaml\")\n",
    "\n",
    "yolo_models: dict = {\n",
    "    'yolov8 nano': 'yolov8n-seg.pt',\n",
    "    'yolov8 small': 'yolov8s-seg.pt',\n",
    "    'yolov8 medium': 'yolov8m-seg.pt',\n",
    "    'yolov8 large': 'yolov8l-seg.pt',\n",
    "    'yolov8 xlarge': 'yolov8x-seg.pt',\n",
    "}\n",
    "\n",
    "for model_name, model_file in yolo_models.items():\n",
    "    print(f\"Training {model_name}\")\n",
    "    model = YOLO(model_file)\n",
    "    model.train(\n",
    "        data=YAML_FILE,\n",
    "        epochs=200,\n",
    "        batch=8,\n",
    "        seed = 0,\n",
    "        save=True,\n",
    "        save_period=False,\n",
    "        project= os.path.join(BASE_DIR, 'scape.v3i.yolov8-augmented/200_single_benchmark_augmented'),\n",
    "        name= f'{model_name}_exp',\n",
    "        device= DEVICE,\n",
    "        single_cls=True, # Treats all classes in multi-class datasets as a single class during training. Useful for binary classification tasks or when focusing on object presence rather than classification.\n",
    "        )"
   ]
  },
  {
   "cell_type": "code",
   "execution_count": null,
   "metadata": {},
   "outputs": [],
   "source": [
    "YAML_FILE = os.path.join(BASE_DIR, \"scape.v3i.yolov9-augmented\\data.yaml\")\n",
    "\n",
    "yolo_models: dict = {\n",
    "    'yolov9 c': 'yolov9c-seg.pt',\n",
    "    # 'yolov9 e': 'yolov9e-seg.pt',\n",
    "}\n",
    "\n",
    "for model_name, model_file in yolo_models.items():\n",
    "    print(f\"Training {model_name}\")\n",
    "    model = YOLO(model_file)\n",
    "    model.train(\n",
    "        data=YAML_FILE,\n",
    "        epochs=200,\n",
    "        batch=8,\n",
    "        seed = 0,\n",
    "        save=True,\n",
    "        save_period=False,\n",
    "        project= os.path.join(BASE_DIR, 'scape.v3i.yolov8-augmented/200_single_benchmark_augmented'),\n",
    "        name= f'{model_name}_exp',\n",
    "        device= DEVICE,\n",
    "        single_cls=True,\n",
    "        )"
   ]
  },
  {
   "cell_type": "markdown",
   "metadata": {},
   "source": [
    "# scape.v4i.yolov8_70-20-10 200 Augmented"
   ]
  },
  {
   "cell_type": "markdown",
   "metadata": {},
   "source": [
    "## Training"
   ]
  },
  {
   "cell_type": "code",
   "execution_count": null,
   "metadata": {},
   "outputs": [],
   "source": [
    "YAML_FILE = os.path.join(BASE_DIR, \"scape.v4i.yolov8_70-20-10\\data.yaml\")\n",
    "\n",
    "yolo_models: dict = {\n",
    "    'yolov8 nano': 'yolov8n-seg.pt',\n",
    "    'yolov8 small': 'yolov8s-seg.pt',\n",
    "    'yolov8 medium': 'yolov8m-seg.pt',\n",
    "    'yolov8 large': 'yolov8l-seg.pt',\n",
    "    'yolov8 xlarge': 'yolov8x-seg.pt',\n",
    "}\n",
    "\n",
    "for model_name, model_file in yolo_models.items():\n",
    "    print(f\"Training {model_name}\")\n",
    "    model = YOLO(model_file)\n",
    "    model.train(\n",
    "        data=YAML_FILE,\n",
    "        epochs=200,\n",
    "        batch=8,\n",
    "        seed = 0,\n",
    "        save=True,\n",
    "        save_period=1,\n",
    "        project= os.path.join(BASE_DIR, 'scape.v4i.yolov8_70-20-10/200_70-20-10_split'),\n",
    "        name= f'{model_name}_exp',\n",
    "        device= DEVICE,\n",
    "        single_cls=True,\n",
    "        )"
   ]
  },
  {
   "cell_type": "code",
   "execution_count": null,
   "metadata": {},
   "outputs": [],
   "source": [
    "YAML_FILE = os.path.join(BASE_DIR, \"scape.v4i.yolov9_70-20-10\\data.yaml\")\n",
    "\n",
    "yolo_models: dict = {\n",
    "    'yolov9 c': 'yolov9c-seg.pt',\n",
    "    # 'yolov9 e': 'yolov9e-seg.pt',\n",
    "}\n",
    "\n",
    "for model_name, model_file in yolo_models.items():\n",
    "    print(f\"Training {model_name}\")\n",
    "    model = YOLO(model_file)\n",
    "    model.train(\n",
    "        data=YAML_FILE,\n",
    "        epochs=200,\n",
    "        batch=8,\n",
    "        seed = 0,\n",
    "        save=True,\n",
    "        save_period=1,\n",
    "        project= os.path.join(BASE_DIR, 'scape.v4i.yolov8_70-20-10/200_70-20-10_split'),\n",
    "        name= f'{model_name}_exp',\n",
    "        device= DEVICE,\n",
    "        single_cls=True,\n",
    "        )"
   ]
  },
  {
   "cell_type": "markdown",
   "metadata": {},
   "source": [
    "## Test"
   ]
  },
  {
   "cell_type": "code",
   "execution_count": null,
   "metadata": {},
   "outputs": [],
   "source": [
    "YAML_FILE = os.path.join(BASE_DIR, \"scape.v4i.yolov9_70-20-10\\data.yaml\")\n",
    "\n",
    "yolo_models: dict = {\n",
    "    'yolov8 nano'       : os.path.join(BASE_DIR, \"scape.v4i.yolov9_70-20-10/200_70-20-10_split/yolov8 nano_exp/weights/epoch24.pt\"),\n",
    "    'yolov8 small'      : os.path.join(BASE_DIR, \"scape.v4i.yolov9_70-20-10/200_70-20-10_split/yolov8 small_exp/weights/epoch42.pt\"),\n",
    "    'yolov8 medium'     : os.path.join(BASE_DIR, \"scape.v4i.yolov9_70-20-10/200_70-20-10_split/yolov8 medium_exp/weights/epoch95.pt\"),\n",
    "    'yolov8 large'      : os.path.join(BASE_DIR, \"scape.v4i.yolov9_70-20-10/200_70-20-10_split/yolov8 large_exp/weights/epoch129.pt\"),\n",
    "    'yolov8 xlarge'     : os.path.join(BASE_DIR, \"scape.v4i.yolov9_70-20-10/200_70-20-10_split/yolov8 xlarge_exp/weights/epoch141.pt\"),\n",
    "}\n",
    "\n",
    "for model_name, model_file in yolo_models.items():\n",
    "    print(f\"Training {model_name}\")\n",
    "    model = YOLO(model_file)\n",
    "    results = model.val(\n",
    "        data=YAML_FILE,\n",
    "        split='test',\n",
    "        device= DEVICE,\n",
    "        batch=8,\n",
    "        plots = True,\n",
    "        save_json = True,\n",
    "        project= os.path.join(BASE_DIR, \"scape.v4i.yolov9_70-20-10/200_70-20-10_split_test\"),\n",
    "        name= f'{model_name}_exp',\n",
    "        )\n",
    "\n",
    "    SAVE_DIR = os.path.join(BASE_DIR, \"scape.v4i.yolov9_70-20-10/200_70-20-10_split_test\")\n",
    "    with open(f\"{SAVE_DIR}/{model_name}_exp/results.json\", \"w\") as f:\n",
    "        json.dump(results.results_dict, f)"
   ]
  },
  {
   "cell_type": "code",
   "execution_count": null,
   "metadata": {},
   "outputs": [],
   "source": [
    "results.results_dict"
   ]
  },
  {
   "cell_type": "code",
   "execution_count": null,
   "metadata": {},
   "outputs": [],
   "source": [
    "YAML_FILE = os.path.join(BASE_DIR, \"scape.v4i.yolov9_70-20-10\\data.yaml\")\n",
    "\n",
    "yolo_models: dict = {\n",
    "    'yolov9 c': os.path.join(BASE_DIR, \"scape.v4i.yolov9_70-20-10/200_70-20-10_split/yolov9 c_exp/weights/epoch68.pt\"),\n",
    "}\n",
    "\n",
    "for model_name, model_file in yolo_models.items():\n",
    "    print(f\"Training {model_name}\")\n",
    "    model = YOLO(model_file)\n",
    "    results = model.val(\n",
    "        data=YAML_FILE,\n",
    "        split='test',\n",
    "        device= DEVICE,\n",
    "        batch=8,\n",
    "        plots = True,\n",
    "        save_json = True,\n",
    "        project= os.path.join(BASE_DIR, \"scape.v4i.yolov9_70-20-10/200_70-20-10_split_test\"),\n",
    "        name= f'{model_name}_exp',\n",
    "        )\n",
    "\n",
    "    SAVE_DIR = os.path.join(BASE_DIR, \"scape.v4i.yolov9_70-20-10/200_70-20-10_split_test\")\n",
    "    with open(f\"{SAVE_DIR}/{model_name}_exp/results.json\", \"w\") as f:\n",
    "        json.dump(results.results_dict, f)"
   ]
  },
  {
   "cell_type": "code",
   "execution_count": null,
   "metadata": {},
   "outputs": [],
   "source": [
    "results.results_dict"
   ]
  },
  {
   "cell_type": "markdown",
   "metadata": {},
   "source": [
    "# scape.v5i.yolov8_70-20-10_noAug 200 benchmark AND TEST"
   ]
  },
  {
   "cell_type": "markdown",
   "metadata": {},
   "source": [
    "## Training"
   ]
  },
  {
   "cell_type": "code",
   "execution_count": null,
   "metadata": {},
   "outputs": [],
   "source": [
    "YAML_FILE = os.path.join(BASE_DIR, \"scape.v5i.yolov8_70-20-10_noAug\\data.yaml\")\n",
    "\n",
    "\n",
    "yolo_models: dict = {\n",
    "    'yolov8 nano': 'yolov8n-seg.pt',\n",
    "    'yolov8 small': 'yolov8s-seg.pt',\n",
    "    'yolov8 medium': 'yolov8m-seg.pt',\n",
    "    'yolov8 large': 'yolov8l-seg.pt',\n",
    "    'yolov8 xlarge': 'yolov8x-seg.pt',\n",
    "}\n",
    "\n",
    "for model_name, model_file in yolo_models.items():\n",
    "    print(f\"Training {model_name}\")\n",
    "    model = YOLO(model_file)\n",
    "    model.train(\n",
    "        data=YAML_FILE,\n",
    "        epochs=200,\n",
    "        batch=8,\n",
    "        seed = 0,\n",
    "        save=True,\n",
    "        save_period=1,\n",
    "        project= os.path.join(BASE_DIR, \"scape.v5i.yolov8_70-20-10_noAug/200_benchmark_2_1\"),\n",
    "        name= f'{model_name}_exp',\n",
    "        device= DEVICE,\n",
    "        single_cls=True,\n",
    "        )"
   ]
  },
  {
   "cell_type": "code",
   "execution_count": null,
   "metadata": {},
   "outputs": [],
   "source": [
    "YAML_FILE = os.path.join(BASE_DIR, \"scape.v5i.yolov8_70-20-10_noAug\\data.yaml\")\n",
    "\n",
    "yolo_models: dict = {\n",
    "    'yolov9 c': 'yolov9c-seg.pt',\n",
    "    # 'yolov9 e': 'yolov9e-seg.pt',\n",
    "}\n",
    "\n",
    "for model_name, model_file in yolo_models.items():\n",
    "    print(f\"Training {model_name}\")\n",
    "    model = YOLO(model_file)\n",
    "    model.train(\n",
    "        data=YAML_FILE,\n",
    "        epochs=200,\n",
    "        batch=8,\n",
    "        seed = 0,\n",
    "        save=True,\n",
    "        save_period=1,\n",
    "        project= os.path.join(BASE_DIR, 'scape.v5i.yolov8_70-20-10_noAug/200_benchmark_2_1'),\n",
    "        name= f'{model_name}_exp',\n",
    "        device= DEVICE,\n",
    "        single_cls=True,\n",
    "        )"
   ]
  },
  {
   "cell_type": "markdown",
   "metadata": {},
   "source": [
    "## Test"
   ]
  },
  {
   "cell_type": "code",
   "execution_count": null,
   "metadata": {},
   "outputs": [],
   "source": [
    "YAML_FILE = os.path.join(BASE_DIR, \"scape.v5i.yolov8_70-20-10_noAug\\data.yaml\")\n",
    "\n",
    "yolo_models: dict = {\n",
    "    'yolov8 nano'       : os.path.join(BASE_DIR, \"scape.v5i.yolov8_70-20-10_noAug/200_benchmark_2_1/yolov8 nano_exp/weights/epoch24.pt\"),\n",
    "    'yolov8 small'      : os.path.join(BASE_DIR, \"scape.v5i.yolov8_70-20-10_noAug/200_benchmark_2_1/yolov8 small_exp/weights/epoch42.pt\"),\n",
    "    'yolov8 medium'     : os.path.join(BASE_DIR, \"scape.v5i.yolov8_70-20-10_noAug/200_benchmark_2_1/yolov8 medium_exp/weights/epoch95.pt\"),\n",
    "    'yolov8 large'      : os.path.join(BASE_DIR, \"scape.v5i.yolov8_70-20-10_noAug/200_benchmark_2_1/yolov8 large_exp/weights/epoch129.pt\"),\n",
    "    'yolov8 xlarge'     : os.path.join(BASE_DIR, \"scape.v5i.yolov8_70-20-10_noAug/200_benchmark_2_1/yolov8 xlarge_exp/weights/epoch141.pt\"),\n",
    "}\n",
    "\n",
    "for model_name, model_file in yolo_models.items():\n",
    "    print(f\"Training {model_name}\")\n",
    "    model = YOLO(model_file)\n",
    "    results = model.val(\n",
    "        data=YAML_FILE,\n",
    "        split='test',\n",
    "        device= DEVICE,\n",
    "        batch=8,\n",
    "        plots = True,\n",
    "        save_json = True,\n",
    "        project= os.path.join(BASE_DIR, \"scape.v5i.yolov8_70-20-10_noAug/200_benchmark_2_1_test\"),\n",
    "        name= f'{model_name}_exp',\n",
    "        )\n",
    "\n",
    "    SAVE_DIR = os.path.join(BASE_DIR, \"scape.v5i.yolov8_70-20-10_noAug/200_benchmark_2_1_test\")\n",
    "    with open(f\"{SAVE_DIR}/{model_name}_exp/results.json\", \"w\") as f:\n",
    "        json.dump(results.results_dict, f)"
   ]
  },
  {
   "cell_type": "code",
   "execution_count": null,
   "metadata": {},
   "outputs": [],
   "source": [
    "results.results_dict"
   ]
  },
  {
   "cell_type": "code",
   "execution_count": null,
   "metadata": {},
   "outputs": [],
   "source": [
    "YAML_FILE = os.path.join(BASE_DIR, \"scape.v5i.yolov8_70-20-10_noAug\\data.yaml\")\n",
    "\n",
    "yolo_models: dict = {\n",
    "    'yolov9 c': os.path.join(BASE_DIR, \"scape.v5i.yolov8_70-20-10_noAug/200_benchmark_2_1/yolov9 c_exp/weights/epoch68.pt\"),\n",
    "}\n",
    "\n",
    "for model_name, model_file in yolo_models.items():\n",
    "    print(f\"Training {model_name}\")\n",
    "    model = YOLO(model_file)\n",
    "    results = model.val(\n",
    "        data=YAML_FILE,\n",
    "        split='test',\n",
    "        device= DEVICE,\n",
    "        batch=8,\n",
    "        plots = True,\n",
    "        save_json = True,\n",
    "        project= os.path.join(BASE_DIR, \"scape.v5i.yolov8_70-20-10_noAug/200_benchmark_2_1_test\"),\n",
    "        name= f'{model_name}_exp',\n",
    "        )\n",
    "\n",
    "    SAVE_DIR = os.path.join(BASE_DIR, \"scape.v5i.yolov8_70-20-10_noAug/200_benchmark_2_1_test\")\n",
    "    with open(f\"{SAVE_DIR}/{model_name}_exp/results.json\", \"w\") as f:\n",
    "        json.dump(results.results_dict, f)"
   ]
  },
  {
   "cell_type": "code",
   "execution_count": null,
   "metadata": {},
   "outputs": [],
   "source": [
    "results.results_dict"
   ]
  }
 ],
 "metadata": {
  "kernelspec": {
   "display_name": "pytorch",
   "language": "python",
   "name": "python3"
  },
  "language_info": {
   "codemirror_mode": {
    "name": "ipython",
    "version": 3
   },
   "file_extension": ".py",
   "mimetype": "text/x-python",
   "name": "python",
   "nbconvert_exporter": "python",
   "pygments_lexer": "ipython3",
   "version": "3.11.7"
  }
 },
 "nbformat": 4,
 "nbformat_minor": 2
}
