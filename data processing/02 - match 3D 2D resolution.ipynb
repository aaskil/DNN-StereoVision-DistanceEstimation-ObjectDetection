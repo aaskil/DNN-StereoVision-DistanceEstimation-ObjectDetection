{
 "cells": [
  {
   "cell_type": "code",
   "execution_count": 1,
   "metadata": {},
   "outputs": [],
   "source": [
    "from calibration_functions import *\n",
    "\n",
    "import cv2 \n",
    "import json\n",
    "import os"
   ]
  },
  {
   "cell_type": "code",
   "execution_count": null,
   "metadata": {},
   "outputs": [],
   "source": [
    "with open('../config.json') as f:\n",
    "    config = json.load(f)\n",
    "BASE_DIR = config[\"BASE_DIR\"]"
   ]
  },
  {
   "cell_type": "markdown",
   "metadata": {},
   "source": [
    "# DATASET 1"
   ]
  },
  {
   "cell_type": "code",
   "execution_count": 4,
   "metadata": {},
   "outputs": [],
   "source": [
    "target_width, target_height = 1624, 1240\n",
    "\n",
    "input_folder  = os.path.join(BASE_DIR, 'data_1/multicast_rect/camera1')\n",
    "output_folder = os.path.join(BASE_DIR, 'data_1/multicast_rect_reso/camera1')\n",
    "os.makedirs(output_folder, exist_ok=True)\n",
    "\n",
    "crop_side =  'right'\n",
    "resize_and_crop_image(input_folder, output_folder, target_width, target_height, crop_side)\n",
    "\n",
    "\n",
    "input_folder  = os.path.join(BASE_DIR, 'data_1/multicast_rect/camera2')\n",
    "output_folder = os.path.join(BASE_DIR, 'data_1/multicast_rect_reso/camera2')\n",
    "os.makedirs(output_folder, exist_ok=True)\n",
    "\n",
    "crop_side =  'left'\n",
    "resize_and_crop_image(input_folder, output_folder, target_width, target_height, crop_side)"
   ]
  },
  {
   "cell_type": "code",
   "execution_count": 5,
   "metadata": {},
   "outputs": [],
   "source": [
    "target_width, target_height = 812, 620\n",
    "\n",
    "input_folder  = os.path.join(BASE_DIR, 'data_1/multicast_rect/camera1')\n",
    "output_folder = os.path.join(BASE_DIR, 'data_1/multicast_rect_reso_half/camera1')\n",
    "\n",
    "crop_side =  'right'\n",
    "resize_and_crop_image(input_folder, output_folder, target_width, target_height, crop_side)\n",
    "\n",
    "\n",
    "input_folder  = os.path.join(BASE_DIR, 'data_1/multicast_rect/camera2')\n",
    "output_folder = os.path.join(BASE_DIR, 'data_1/multicast_rect_reso_half/camera2')\n",
    "\n",
    "crop_side =  'left'\n",
    "resize_and_crop_image(input_folder, output_folder, target_width, target_height, crop_side)"
   ]
  },
  {
   "cell_type": "markdown",
   "metadata": {},
   "source": [
    "# DATASET 2"
   ]
  },
  {
   "cell_type": "code",
   "execution_count": 6,
   "metadata": {},
   "outputs": [],
   "source": [
    "target_width, target_height = 1624, 1240\n",
    "\n",
    "input_folder  = os.path.join(BASE_DIR, 'data_2/multicast_rect/camera1')\n",
    "output_folder = os.path.join(BASE_DIR, 'data_2/multicast_rect_reso/camera1')\n",
    "os.makedirs(output_folder, exist_ok=True)\n",
    "\n",
    "crop_side =  'right'\n",
    "resize_and_crop_image(input_folder, output_folder, target_width, target_height, crop_side)\n",
    "\n",
    "\n",
    "input_folder  = os.path.join(BASE_DIR, 'data_2/multicast_rect/camera2') \n",
    "output_folder = os.path.join(BASE_DIR, 'data_2/multicast_rect_reso/camera2')\n",
    "os.makedirs(output_folder, exist_ok=True)\n",
    "\n",
    "crop_side =  'left'\n",
    "resize_and_crop_image(input_folder, output_folder, target_width, target_height, crop_side)"
   ]
  },
  {
   "cell_type": "code",
   "execution_count": 7,
   "metadata": {},
   "outputs": [],
   "source": [
    "target_width, target_height = 812, 620\n",
    "\n",
    "input_folder  = os.path.join(BASE_DIR, 'data_2/multicast_rect/camera1')\n",
    "output_folder = os.path.join(BASE_DIR, 'data_2/multicast_rect_reso_half/camera1')\n",
    "\n",
    "crop_side =  'right'\n",
    "resize_and_crop_image(input_folder, output_folder, target_width, target_height, crop_side)\n",
    "\n",
    "\n",
    "input_folder  = os.path.join(BASE_DIR, 'data_2/multicast_rect/camera2')\n",
    "output_folder = os.path.join(BASE_DIR, 'data_2/multicast_rect_reso_half/camera2')\n",
    "\n",
    "crop_side =  'left'\n",
    "resize_and_crop_image(input_folder, output_folder, target_width, target_height, crop_side)"
   ]
  },
  {
   "cell_type": "markdown",
   "metadata": {},
   "source": [
    "# DATASET 3"
   ]
  },
  {
   "cell_type": "code",
   "execution_count": 8,
   "metadata": {},
   "outputs": [],
   "source": [
    "target_width, target_height = 1624, 1240\n",
    "\n",
    "input_folder  = os.path.join(BASE_DIR, 'data_3/multicast_rect/camera1')\n",
    "output_folder = os.path.join(BASE_DIR, 'data_3/multicast_rect_reso/camera1')\n",
    "os.makedirs(output_folder, exist_ok=True)\n",
    "\n",
    "crop_side =  'right'\n",
    "resize_and_crop_image(input_folder, output_folder, target_width, target_height, crop_side)\n",
    "\n",
    "\n",
    "input_folder  = os.path.join(BASE_DIR, 'data_3/multicast_rect/camera2')\n",
    "output_folder = os.path.join(BASE_DIR, 'data_3/multicast_rect_reso/camera2')\n",
    "os.makedirs(output_folder, exist_ok=True)\n",
    "\n",
    "crop_side =  'left'\n",
    "resize_and_crop_image(input_folder, output_folder, target_width, target_height, crop_side)"
   ]
  },
  {
   "cell_type": "code",
   "execution_count": 9,
   "metadata": {},
   "outputs": [],
   "source": [
    "target_width, target_height = 812, 620\n",
    "\n",
    "input_folder  = os.path.join(BASE_DIR, 'data_3/multicast_rect/camera1')\n",
    "output_folder = os.path.join(BASE_DIR, 'data_3/multicast_rect_reso_half/camera1')\n",
    "\n",
    "crop_side =  'right'\n",
    "resize_and_crop_image(input_folder, output_folder, target_width, target_height, crop_side)\n",
    "\n",
    "\n",
    "input_folder  = os.path.join(BASE_DIR, 'data_3/multicast_rect/camera2')\n",
    "output_folder = os.path.join(BASE_DIR, 'data_3/multicast_rect_reso_half/camera2')\n",
    "\n",
    "crop_side =  'left'\n",
    "resize_and_crop_image(input_folder, output_folder, target_width, target_height, crop_side)"
   ]
  }
 ],
 "metadata": {
  "kernelspec": {
   "display_name": "base",
   "language": "python",
   "name": "python3"
  },
  "language_info": {
   "codemirror_mode": {
    "name": "ipython",
    "version": 3
   },
   "file_extension": ".py",
   "mimetype": "text/x-python",
   "name": "python",
   "nbconvert_exporter": "python",
   "pygments_lexer": "ipython3",
   "version": "3.11.7"
  }
 },
 "nbformat": 4,
 "nbformat_minor": 2
}
