{
 "cells": [
  {
   "cell_type": "code",
   "execution_count": null,
   "metadata": {},
   "outputs": [],
   "source": [
    "!pip install open3d"
   ]
  },
  {
   "cell_type": "code",
   "execution_count": null,
   "metadata": {},
   "outputs": [],
   "source": [
    "from calibration_functions import pfm_imread, write_pfm\n",
    "from PIL import Image\n",
    "from torchvision import transforms\n",
    "\n",
    "import json\n",
    "import matplotlib.pyplot as plt\n",
    "import numpy as np\n",
    "import os"
   ]
  },
  {
   "cell_type": "code",
   "execution_count": null,
   "metadata": {},
   "outputs": [],
   "source": [
    "with open('../config.json') as f:\n",
    "    config = json.load(f)\n",
    "BASE_DIR = config[\"BASE_DIR\"]"
   ]
  },
  {
   "cell_type": "markdown",
   "metadata": {},
   "source": [
    "# Transformation Functions"
   ]
  },
  {
   "cell_type": "code",
   "execution_count": null,
   "metadata": {},
   "outputs": [],
   "source": [
    "def hflip_image(image):\n",
    "    return transforms.functional.hflip(image)\n",
    "\n",
    "def vflip_image(image):\n",
    "    return transforms.functional.vflip(image)\n",
    "\n",
    "def rotate_image_180(image):\n",
    "    return transforms.functional.rotate(image, 180)\n",
    "\n",
    "def hflip_np(array):\n",
    "    return np.fliplr(array)\n",
    "\n",
    "def vflip_np(array):\n",
    "    return np.flipud(array)\n",
    "\n",
    "def rotate_np_180(array):\n",
    "    return np.rot90(array, 2)\n",
    "\n",
    "def apply_transformation_and_save(files, output_path, image_transform=None, np_transform=None):\n",
    "    start_index = len(os.listdir(output_path))\n",
    "    print(f\"Starting index for saving files in {output_path}: {start_index + 1}\")\n",
    "\n",
    "    for index, file_path in enumerate(files, start=start_index + 1):\n",
    "        file_type = 'image' if file_path.endswith('.png') else 'disparity'\n",
    "        file_name = f'{file_type}_{index:04d}.png' if file_path.endswith('.png') else f'{file_type}_{index:04d}.pfm'\n",
    "        data, scale = (Image.open(file_path).convert('RGB'), None) if file_path.endswith('.png') else pfm_imread(file_path)\n",
    "\n",
    "        if file_path.endswith('.png') and image_transform:\n",
    "            print(f\"Applying image transformation to {file_path}\")\n",
    "            data = image_transform(data)\n",
    "        elif file_path.endswith('.pfm') and np_transform:\n",
    "            print(f\"Applying numpy transformation to {file_path}\")\n",
    "            before_transform = np.array(data, copy=True)\n",
    "            data = np_transform(data)\n",
    "            if np.array_equal(data, before_transform):\n",
    "                print(\"WARNING: No change in numpy array after transformation.\")\n",
    "\n",
    "        output_file_path = os.path.join(output_path, file_name)\n",
    "        print(f\"Saving {'image' if file_path.endswith('.png') else 'disparity'} as {output_file_path}\")\n",
    "\n",
    "        if file_path.endswith('.png'):\n",
    "            data.save(output_file_path)\n",
    "        else:\n",
    "            write_pfm(output_file_path, data, scale)\n"
   ]
  },
  {
   "cell_type": "markdown",
   "metadata": {},
   "source": [
    "# DATASET 1"
   ]
  },
  {
   "cell_type": "code",
   "execution_count": null,
   "metadata": {},
   "outputs": [],
   "source": [
    "left_image_path  = os.path.join(BASE_DIR, 'data_1/multicast_rect_reso/camera1')\n",
    "right_image_path = os.path.join(BASE_DIR, 'data_1/multicast_rect_reso/camera2')\n",
    "disparity_path   = os.path.join(BASE_DIR, 'data_1/ground_truth_pfm_rect_cor_disp')\n",
    "left_images      = sorted([img for img in os.listdir(left_image_path) if img.endswith('.png')])\n",
    "right_images     = sorted([img for img in os.listdir(right_image_path) if img.endswith('.png')])\n",
    "disparities   = sorted([img for img in os.listdir(disparity_path) if img.endswith('.pfm')])\n"
   ]
  },
  {
   "cell_type": "code",
   "execution_count": null,
   "metadata": {},
   "outputs": [],
   "source": [
    "left_output_path      = os.path.join(BASE_DIR, 'data_1/multicast_rect_reso_aug/camera1')\n",
    "right_output_path     = os.path.join(BASE_DIR, 'data_1/multicast_rect_reso_aug/camera2')\n",
    "disparity_output_path = os.path.join(BASE_DIR, 'data_1/ground_truth_pfm_rect_cor_disp_aug')\n",
    "os.makedirs(left_output_path, exist_ok=True)\n",
    "os.makedirs(right_output_path, exist_ok=True)\n",
    "os.makedirs(disparity_output_path, exist_ok=True)\n"
   ]
  },
  {
   "cell_type": "code",
   "execution_count": null,
   "metadata": {},
   "outputs": [],
   "source": [
    "transformations = [\n",
    "    transforms.Compose([transforms.RandomHorizontalFlip(p=1)]),\n",
    "    transforms.Compose([transforms.RandomVerticalFlip(p=1)]),\n",
    "    transforms.Compose([transforms.RandomHorizontalFlip(p=1), transforms.RandomVerticalFlip(p=1)])\n",
    "]\n"
   ]
  },
  {
   "cell_type": "code",
   "execution_count": null,
   "metadata": {},
   "outputs": [],
   "source": [
    "left_files = sorted([os.path.join(left_image_path, f) for f in os.listdir(left_image_path) if f.endswith('.png')])[14:]\n",
    "right_files = sorted([os.path.join(right_image_path, f) for f in os.listdir(right_image_path) if f.endswith('.png')])[14:]\n",
    "disparity_files = sorted([os.path.join(disparity_path, f) for f in os.listdir(disparity_path) if f.endswith('.pfm')])[14:]"
   ]
  },
  {
   "cell_type": "code",
   "execution_count": null,
   "metadata": {},
   "outputs": [],
   "source": [
    "left_files"
   ]
  },
  {
   "cell_type": "code",
   "execution_count": null,
   "metadata": {},
   "outputs": [],
   "source": [
    "data, _ = pfm_imread(disparity_files[0])\n",
    "# data = hflip_np(data)\n",
    "plt.imshow(data)\n",
    "plt.show()"
   ]
  },
  {
   "cell_type": "code",
   "execution_count": null,
   "metadata": {},
   "outputs": [],
   "source": [
    "apply_transformation_and_save(left_files, left_output_path)\n",
    "apply_transformation_and_save(right_files, right_output_path)\n",
    "apply_transformation_and_save(disparity_files, disparity_output_path)\n"
   ]
  },
  {
   "cell_type": "code",
   "execution_count": null,
   "metadata": {},
   "outputs": [],
   "source": [
    "transformations = [\n",
    "    (hflip_image, hflip_np),\n",
    "    (vflip_image, vflip_np),\n",
    "    (rotate_image_180, rotate_np_180)\n",
    "]\n",
    "\n",
    "# apply_transformation_and_save(left_files, left_output_path, hflip_image, hflip_np)\n",
    "# apply_transformation_and_save(right_files, right_output_path, hflip_image, hflip_np)\n",
    "# apply_transformation_and_save(disparity_files, disparity_output_path, hflip_image, hflip_np)\n",
    "\n",
    "apply_transformation_and_save(left_files, left_output_path, vflip_image, vflip_np)\n",
    "apply_transformation_and_save(right_files, right_output_path, vflip_image, vflip_np)\n",
    "apply_transformation_and_save(disparity_files, disparity_output_path, vflip_image, vflip_np)\n",
    "\n",
    "# apply_transformation_and_save(left_files, left_output_path, rotate_image_180, rotate_np_180)\n",
    "# apply_transformation_and_save(right_files, right_output_path, rotate_image_180, rotate_np_180)\n",
    "# apply_transformation_and_save(disparity_files, disparity_output_path, rotate_image_180, rotate_np_180)"
   ]
  },
  {
   "cell_type": "markdown",
   "metadata": {},
   "source": [
    "# DATASET 2"
   ]
  },
  {
   "cell_type": "code",
   "execution_count": null,
   "metadata": {},
   "outputs": [],
   "source": [
    "left_image_path  = os.path.join(BASE_DIR, 'data_2/multicast_rect_reso/camera1')\n",
    "right_image_path = os.path.join(BASE_DIR, 'data_2/multicast_rect_reso/camera2')\n",
    "disparity_path   = os.path.join(BASE_DIR, 'data_2/ground_truth_pfm_rect_cor_disp')\n",
    "left_images      = sorted([img for img in os.listdir(left_image_path) if img.endswith('.png')])\n",
    "right_images     = sorted([img for img in os.listdir(right_image_path) if img.endswith('.png')])\n",
    "disparities   = sorted([img for img in os.listdir(disparity_path) if img.endswith('.pfm')])"
   ]
  },
  {
   "cell_type": "code",
   "execution_count": null,
   "metadata": {},
   "outputs": [],
   "source": [
    "disparity_path"
   ]
  },
  {
   "cell_type": "code",
   "execution_count": null,
   "metadata": {},
   "outputs": [],
   "source": [
    "left_output_path      = os.path.join(BASE_DIR, 'data_2/multicast_rect_reso_aug/camera1')\n",
    "right_output_path     = os.path.join(BASE_DIR, 'data_2/multicast_rect_reso_aug/camera2')\n",
    "disparity_output_path = os.path.join(BASE_DIR, 'data_2/ground_truth_pfm_rect_cor_disp_aug')\n",
    "os.makedirs(left_output_path, exist_ok=True)\n",
    "os.makedirs(right_output_path, exist_ok=True)\n",
    "os.makedirs(disparity_output_path, exist_ok=True)\n"
   ]
  },
  {
   "cell_type": "code",
   "execution_count": null,
   "metadata": {},
   "outputs": [],
   "source": [
    "transformations = [\n",
    "    transforms.Compose([transforms.RandomHorizontalFlip(p=1)]),\n",
    "    transforms.Compose([transforms.RandomVerticalFlip(p=1)]),\n",
    "    transforms.Compose([transforms.RandomHorizontalFlip(p=1), transforms.RandomVerticalFlip(p=1)])\n",
    "]"
   ]
  },
  {
   "cell_type": "code",
   "execution_count": null,
   "metadata": {},
   "outputs": [],
   "source": [
    "left_files = sorted([os.path.join(left_image_path, f) for f in os.listdir(left_image_path) if f.endswith('.png')])\n",
    "right_files = sorted([os.path.join(right_image_path, f) for f in os.listdir(right_image_path) if f.endswith('.png')])\n",
    "disparity_files = sorted([os.path.join(disparity_path, f) for f in os.listdir(disparity_path) if f.endswith('.pfm')])"
   ]
  },
  {
   "cell_type": "code",
   "execution_count": null,
   "metadata": {},
   "outputs": [],
   "source": [
    "apply_transformation_and_save(left_files, left_output_path)\n",
    "apply_transformation_and_save(right_files, right_output_path)\n",
    "apply_transformation_and_save(disparity_files, disparity_output_path)\n"
   ]
  },
  {
   "cell_type": "code",
   "execution_count": null,
   "metadata": {},
   "outputs": [],
   "source": [
    "transformations = [\n",
    "    (hflip_image, hflip_np),\n",
    "    (vflip_image, vflip_np),\n",
    "    (rotate_image_180, rotate_np_180)\n",
    "]\n",
    "\n",
    "# apply_transformation_and_save(left_files, left_output_path, hflip_image, hflip_np)\n",
    "# apply_transformation_and_save(right_files, right_output_path, hflip_image, hflip_np)\n",
    "# apply_transformation_and_save(disparity_files, disparity_output_path, hflip_image, hflip_np)\n",
    "\n",
    "apply_transformation_and_save(left_files, left_output_path, vflip_image, vflip_np)\n",
    "apply_transformation_and_save(right_files, right_output_path, vflip_image, vflip_np)\n",
    "apply_transformation_and_save(disparity_files, disparity_output_path, vflip_image, vflip_np)\n",
    "\n",
    "# apply_transformation_and_save(left_files, left_output_path, rotate_image_180, rotate_np_180)\n",
    "# apply_transformation_and_save(right_files, right_output_path, rotate_image_180, rotate_np_180)\n",
    "# apply_transformation_and_save(disparity_files, disparity_output_path, rotate_image_180, rotate_np_180)"
   ]
  },
  {
   "cell_type": "markdown",
   "metadata": {},
   "source": [
    "# DATASET 1 HALF"
   ]
  },
  {
   "cell_type": "code",
   "execution_count": null,
   "metadata": {},
   "outputs": [],
   "source": [
    "left_image_path  = os.path.join(BASE_DIR, 'data_1/multicast_rect_reso_half/camera1')\n",
    "right_image_path = os.path.join(BASE_DIR, 'data_1/multicast_rect_reso_half/camera2')\n",
    "disparity_path   = os.path.join(BASE_DIR, 'data_1/ground_truth_pfm_rect_cor_disp_half')\n",
    "left_images      = sorted([img for img in os.listdir(left_image_path) if img.endswith('.png')])\n",
    "right_images     = sorted([img for img in os.listdir(right_image_path) if img.endswith('.png')])\n",
    "disparities   = sorted([img for img in os.listdir(disparity_path) if img.endswith('.pfm')])"
   ]
  },
  {
   "cell_type": "code",
   "execution_count": null,
   "metadata": {},
   "outputs": [],
   "source": [
    "disparity_path"
   ]
  },
  {
   "cell_type": "code",
   "execution_count": null,
   "metadata": {},
   "outputs": [],
   "source": [
    "left_output_path      = os.path.join(BASE_DIR, 'data_1/multicast_rect_reso_half_aug/camera1')\n",
    "right_output_path     = os.path.join(BASE_DIR, 'data_1/multicast_rect_reso_half_aug/camera2')\n",
    "disparity_output_path = os.path.join(BASE_DIR, 'data_1/ground_truth_pfm_rect_cor_disp_half_aug')\n",
    "os.makedirs(left_output_path, exist_ok=True)\n",
    "os.makedirs(right_output_path, exist_ok=True)\n",
    "os.makedirs(disparity_output_path, exist_ok=True)"
   ]
  },
  {
   "cell_type": "code",
   "execution_count": null,
   "metadata": {},
   "outputs": [],
   "source": [
    "transformations = [\n",
    "    transforms.Compose([transforms.RandomHorizontalFlip(p=1)]),\n",
    "    transforms.Compose([transforms.RandomVerticalFlip(p=1)]),\n",
    "    transforms.Compose([transforms.RandomHorizontalFlip(p=1), transforms.RandomVerticalFlip(p=1)])\n",
    "]"
   ]
  },
  {
   "cell_type": "code",
   "execution_count": null,
   "metadata": {},
   "outputs": [],
   "source": [
    "left_files = sorted([os.path.join(left_image_path, f) for f in os.listdir(left_image_path) if f.endswith('.png')])[14:]\n",
    "right_files = sorted([os.path.join(right_image_path, f) for f in os.listdir(right_image_path) if f.endswith('.png')])[14:]\n",
    "disparity_files = sorted([os.path.join(disparity_path, f) for f in os.listdir(disparity_path) if f.endswith('.pfm')])[14:]"
   ]
  },
  {
   "cell_type": "code",
   "execution_count": null,
   "metadata": {},
   "outputs": [],
   "source": [
    "apply_transformation_and_save(left_files, left_output_path)\n",
    "apply_transformation_and_save(right_files, right_output_path)\n",
    "apply_transformation_and_save(disparity_files, disparity_output_path)"
   ]
  },
  {
   "cell_type": "code",
   "execution_count": null,
   "metadata": {},
   "outputs": [],
   "source": [
    "# Apply transformations\n",
    "transformations = [\n",
    "    (hflip_image, hflip_np),\n",
    "    (vflip_image, vflip_np),\n",
    "    (rotate_image_180, rotate_np_180)\n",
    "]\n",
    "\n",
    "# apply_transformation_and_save(left_files, left_output_path, hflip_image, hflip_np)\n",
    "# apply_transformation_and_save(right_files, right_output_path, hflip_image, hflip_np)\n",
    "# apply_transformation_and_save(disparity_files, disparity_output_path, hflip_image, hflip_np)\n",
    "\n",
    "apply_transformation_and_save(left_files, left_output_path, vflip_image, vflip_np)\n",
    "apply_transformation_and_save(right_files, right_output_path, vflip_image, vflip_np)\n",
    "apply_transformation_and_save(disparity_files, disparity_output_path, vflip_image, vflip_np)\n",
    "\n",
    "# apply_transformation_and_save(left_files, left_output_path, rotate_image_180, rotate_np_180)\n",
    "# apply_transformation_and_save(right_files, right_output_path, rotate_image_180, rotate_np_180)\n",
    "# apply_transformation_and_save(disparity_files, disparity_output_path, rotate_image_180, rotate_np_180)"
   ]
  },
  {
   "cell_type": "markdown",
   "metadata": {},
   "source": [
    "# DATASET 2 HALF"
   ]
  },
  {
   "cell_type": "code",
   "execution_count": null,
   "metadata": {},
   "outputs": [],
   "source": [
    "left_image_path  = os.path.join(BASE_DIR, 'data_2/multicast_rect_reso_half/camera1')\n",
    "right_image_path = os.path.join(BASE_DIR, 'data_2/multicast_rect_reso_half/camera2')\n",
    "disparity_path   = os.path.join(BASE_DIR, 'data_2/ground_truth_pfm_rect_cor_disp_half')\n",
    "left_images      = sorted([img for img in os.listdir(left_image_path) if img.endswith('.png')])\n",
    "right_images     = sorted([img for img in os.listdir(right_image_path) if img.endswith('.png')])\n",
    "disparities   = sorted([img for img in os.listdir(disparity_path) if img.endswith('.pfm')])"
   ]
  },
  {
   "cell_type": "code",
   "execution_count": null,
   "metadata": {},
   "outputs": [],
   "source": [
    "disparity_path"
   ]
  },
  {
   "cell_type": "code",
   "execution_count": null,
   "metadata": {},
   "outputs": [],
   "source": [
    "left_output_path      = os.path.join(BASE_DIR, 'data_2/multicast_rect_reso_half_aug/camera1')\n",
    "right_output_path     = os.path.join(BASE_DIR, 'data_2/multicast_rect_reso_half_aug/camera2')\n",
    "disparity_output_path = os.path.join(BASE_DIR, 'data_2/ground_truth_pfm_rect_cor_disp_half_aug')\n",
    "os.makedirs(left_output_path, exist_ok=True)\n",
    "os.makedirs(right_output_path, exist_ok=True)\n",
    "os.makedirs(disparity_output_path, exist_ok=True)"
   ]
  },
  {
   "cell_type": "code",
   "execution_count": null,
   "metadata": {},
   "outputs": [],
   "source": [
    "transformations = [\n",
    "    transforms.Compose([transforms.RandomHorizontalFlip(p=1)]),\n",
    "    transforms.Compose([transforms.RandomVerticalFlip(p=1)]),\n",
    "    transforms.Compose([transforms.RandomHorizontalFlip(p=1), transforms.RandomVerticalFlip(p=1)])\n",
    "]"
   ]
  },
  {
   "cell_type": "code",
   "execution_count": null,
   "metadata": {},
   "outputs": [],
   "source": [
    "left_files = sorted([os.path.join(left_image_path, f) for f in os.listdir(left_image_path) if f.endswith('.png')])\n",
    "right_files = sorted([os.path.join(right_image_path, f) for f in os.listdir(right_image_path) if f.endswith('.png')])\n",
    "disparity_files = sorted([os.path.join(disparity_path, f) for f in os.listdir(disparity_path) if f.endswith('.pfm')])"
   ]
  },
  {
   "cell_type": "code",
   "execution_count": null,
   "metadata": {},
   "outputs": [],
   "source": [
    "apply_transformation_and_save(left_files, left_output_path)\n",
    "apply_transformation_and_save(right_files, right_output_path)\n",
    "apply_transformation_and_save(disparity_files, disparity_output_path)\n"
   ]
  },
  {
   "cell_type": "code",
   "execution_count": null,
   "metadata": {},
   "outputs": [],
   "source": [
    "# Apply transformations\n",
    "transformations = [\n",
    "    (hflip_image, hflip_np),\n",
    "    (vflip_image, vflip_np)\n",
    "    (rotate_image_180, rotate_np_180)\n",
    "]\n",
    "\n",
    "# apply_transformation_and_save(left_files, left_output_path, hflip_image, hflip_np)\n",
    "# apply_transformation_and_save(right_files, right_output_path, hflip_image, hflip_np)\n",
    "# apply_transformation_and_save(disparity_files, disparity_output_path, hflip_image, hflip_np)\n",
    "\n",
    "apply_transformation_and_save(left_files, left_output_path, vflip_image, vflip_np)\n",
    "apply_transformation_and_save(right_files, right_output_path, vflip_image, vflip_np)\n",
    "apply_transformation_and_save(disparity_files, disparity_output_path, vflip_image, vflip_np)\n",
    "\n",
    "# apply_transformation_and_save(left_files, left_output_path, rotate_image_180, rotate_np_180)\n",
    "# apply_transformation_and_save(right_files, right_output_path, rotate_image_180, rotate_np_180)\n",
    "# apply_transformation_and_save(disparity_files, disparity_output_path, rotate_image_180, rotate_np_180)"
   ]
  },
  {
   "cell_type": "markdown",
   "metadata": {},
   "source": [
    "# VISUALIZE THE AUGMENTED IMAGES"
   ]
  },
  {
   "cell_type": "code",
   "execution_count": null,
   "metadata": {},
   "outputs": [],
   "source": [
    "left_check_path      = os.path.join(BASE_DIR, 'data_1/multicast_rect_reso_aug/camera1')\n",
    "right_check_path     = os.path.join(BASE_DIR, 'data_1/multicast_rect_reso_aug/camera2')\n",
    "disparity_check_path = os.path.join(BASE_DIR, 'data_1/ground_truth_pfm_rect_cor_disp_aug')\n",
    "\n",
    "left_files = sorted([os.path.join(left_check_path, f) for f in os.listdir(left_check_path) if f.endswith('.png')])\n",
    "right_files = sorted([os.path.join(right_check_path, f) for f in os.listdir(right_check_path) if f.endswith('.png')])\n",
    "disparity_files = sorted([os.path.join(disparity_check_path, f) for f in os.listdir(disparity_check_path) if f.endswith('.pfm')])\n",
    "\n",
    "for count, (left_file, right_file, disparity_file) in enumerate(zip(left_files, right_files, disparity_files)):\n",
    "    left_image = Image.open(left_file)\n",
    "    right_image = Image.open(right_file)\n",
    "    disparity, _ = pfm_imread(disparity_file)\n",
    "\n",
    "    plt.figure(figsize=(15, 5), dpi=100)\n",
    "    plt.subplot(131)\n",
    "    plt.imshow(disparity, cmap='viridis')\n",
    "\n",
    "    plt.subplot(132)\n",
    "    plt.imshow(left_image)\n",
    "\n",
    "    plt.subplot(133)\n",
    "    plt.imshow(right_image)\n",
    "\n",
    "    plt.savefig(f'check_augmentation/plot_{count:03d}.png')\n"
   ]
  }
 ],
 "metadata": {
  "kernelspec": {
   "display_name": "base",
   "language": "python",
   "name": "python3"
  },
  "language_info": {
   "codemirror_mode": {
    "name": "ipython",
    "version": 3
   },
   "file_extension": ".py",
   "mimetype": "text/x-python",
   "name": "python",
   "nbconvert_exporter": "python",
   "pygments_lexer": "ipython3",
   "version": "3.11.7"
  }
 },
 "nbformat": 4,
 "nbformat_minor": 2
}
