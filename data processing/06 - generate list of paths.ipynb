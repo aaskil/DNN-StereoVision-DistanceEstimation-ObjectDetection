{
 "cells": [
  {
   "cell_type": "code",
   "execution_count": 1,
   "metadata": {},
   "outputs": [],
   "source": [
    "from sklearn.model_selection import train_test_split\n",
    "import json\n",
    "import os"
   ]
  },
  {
   "cell_type": "code",
   "execution_count": 2,
   "metadata": {},
   "outputs": [],
   "source": [
    "with open('../config.json') as f:\n",
    "    config = json.load(f)\n",
    "BASE_DIR = config[\"BASE_DIR\"]"
   ]
  },
  {
   "cell_type": "markdown",
   "metadata": {},
   "source": [
    "# Sceneflow Dataset"
   ]
  },
  {
   "cell_type": "markdown",
   "metadata": {},
   "source": [
    "# train"
   ]
  },
  {
   "cell_type": "code",
   "execution_count": null,
   "metadata": {},
   "outputs": [],
   "source": [
    "left_train_image_path      = os.path.join(BASE_DIR, \"sceneflow/FlyingThings/FlyingThings3D_subset/train/image_clean/left/\")\n",
    "right_train_image_path     = os.path.join(BASE_DIR, \"sceneflow/FlyingThings/FlyingThings3D_subset/train/image_clean/right/\")\n",
    "\n",
    "left_train_disparity_path  = os.path.join(BASE_DIR, \"sceneflow/FlyingThings/FlyingThings3D_subset/train/disparity/left/\")\n",
    "right_train_disparity_path = os.path.join(BASE_DIR, \"sceneflow/FlyingThings/FlyingThings3D_subset/train/disparity/right/\")"
   ]
  },
  {
   "cell_type": "code",
   "execution_count": null,
   "metadata": {},
   "outputs": [],
   "source": [
    "with open(\"sceneflow_train_flying_things.txt\", \"w\") as f:\n",
    "    base_path = \"sceneflow/FlyingThings/FlyingThings3D_subset/train/\"\n",
    "    left_images      = sorted(os.listdir(left_train_image_path))\n",
    "    right_images     = sorted(os.listdir(right_train_image_path))\n",
    "    left_disparities = sorted(os.listdir(left_train_disparity_path))\n",
    "\n",
    "    for left_image, right_image, left_disparity in zip(left_images, right_images, left_disparities):\n",
    "        left_image_path  = os.path.join(base_path, \"image_clean/left\", left_image)\n",
    "        right_image_path = os.path.join(base_path, \"image_clean/right\", right_image)\n",
    "        left_disparity_path = os.path.join(base_path, \"disparity/left\", left_disparity)\n",
    "\n",
    "        f.write(left_image_path + \" \" + right_image_path + \" \" + left_disparity_path + \"\\n\")"
   ]
  },
  {
   "cell_type": "code",
   "execution_count": null,
   "metadata": {},
   "outputs": [],
   "source": [
    "print(f\"number of left images: {len(left_images)}\")"
   ]
  },
  {
   "cell_type": "code",
   "execution_count": null,
   "metadata": {},
   "outputs": [],
   "source": [
    "print(type(left_images))"
   ]
  },
  {
   "cell_type": "code",
   "execution_count": null,
   "metadata": {},
   "outputs": [],
   "source": [
    "sorted(left_images)"
   ]
  },
  {
   "cell_type": "markdown",
   "metadata": {},
   "source": [
    "# val"
   ]
  },
  {
   "cell_type": "code",
   "execution_count": null,
   "metadata": {},
   "outputs": [],
   "source": [
    "left_val_image_path      = os.path.join(BASE_DIR, \"sceneflow/FlyingThings/FlyingThings3D_subset/val/image_clean/left/\")\n",
    "right_val_image_path     = os.path.join(BASE_DIR, \"sceneflow/FlyingThings/FlyingThings3D_subset/val/image_clean/right/\")\n",
    "\n",
    "left_val_disparity_path  = os.path.join(BASE_DIR, \"sceneflow/FlyingThings/FlyingThings3D_subset/val/disparity/left/\")\n",
    "right_val_disparity_path = os.path.join(BASE_DIR, \"sceneflow/FlyingThings/FlyingThings3D_subset/val/disparity/right/\")"
   ]
  },
  {
   "cell_type": "code",
   "execution_count": null,
   "metadata": {},
   "outputs": [],
   "source": [
    "with open(\"sceneflow_val_flying_things.txt\", \"w\") as f:\n",
    "    base_path = \"sceneflow/FlyingThings/FlyingThings3D_subset/val/\"\n",
    "    left_images      = sorted(os.listdir(left_val_image_path))\n",
    "    right_images     = sorted(os.listdir(right_val_image_path))\n",
    "    left_disparities = sorted(os.listdir(left_val_disparity_path))\n",
    "\n",
    "    for left_image, right_image, left_disparity in zip(left_images, right_images, left_disparities):\n",
    "        left_image_path  = os.path.join(base_path, \"image_clean/left\", left_image)\n",
    "        right_image_path = os.path.join(base_path, \"image_clean/right\", right_image)\n",
    "        left_disparity_path = os.path.join(base_path, \"disparity/left\", left_disparity)\n",
    "\n",
    "        f.write(left_image_path + \" \" + right_image_path + \" \" + left_disparity_path + \"\\n\")"
   ]
  },
  {
   "cell_type": "markdown",
   "metadata": {},
   "source": [
    "# Original size"
   ]
  },
  {
   "cell_type": "code",
   "execution_count": 3,
   "metadata": {},
   "outputs": [],
   "source": [
    "left_train_image_path     =  os.path.join(BASE_DIR, 'data_1/multicast_rect_reso/camera1')\n",
    "right_train_image_path    =  os.path.join(BASE_DIR, 'data_1/multicast_rect_reso/camera2')\n",
    "left_train_disparity_path =  os.path.join(BASE_DIR, 'data_1/ground_truth_pfm_rect_cor_disp')\n",
    "\n",
    "left_images      = sorted([img for img in os.listdir(left_train_image_path) if img.endswith('.png')])[24:]\n",
    "right_images     = sorted([img for img in os.listdir(right_train_image_path) if img.endswith('.png')])[24:]\n",
    "left_disparities = sorted([img for img in os.listdir(left_train_disparity_path) if img.endswith('.pfm')])[24:]"
   ]
  },
  {
   "cell_type": "code",
   "execution_count": 4,
   "metadata": {},
   "outputs": [],
   "source": [
    "assert len(left_images) == len(right_images) == len(left_disparities), \"Mismatch in dataset sizes!\"\n",
    "\n",
    "data = list(zip(left_images, right_images, left_disparities))\n",
    "\n",
    "train_data, temp_data = train_test_split(data, test_size=0.2, random_state=42)\n",
    "val_data, test_data = train_test_split(temp_data, test_size=0.5, random_state=42)\n",
    "\n",
    "def write_dataset(file_path, dataset, base_path):\n",
    "    with open(file_path, \"w\") as f:\n",
    "        for left_image, right_image, left_disparity in dataset:\n",
    "            left_image_path     = os.path.join(base_path, \"multicast_rect_reso/camera1\", left_image)\n",
    "            right_image_path    = os.path.join(base_path, \"multicast_rect_reso/camera2\", right_image)\n",
    "            left_disparity_path = os.path.join(base_path, \"ground_truth_pfm_rect_cor_disp\", left_disparity)\n",
    "            f.write(left_image_path + \" \" + right_image_path + \" \" + left_disparity_path + \"\\n\")\n",
    "\n",
    "base_path = \"data/data_1\"\n",
    "\n",
    "write_dataset(\"full_rectified_scape_dataset_train.txt\", train_data, base_path)\n",
    "write_dataset(\"full_rectified_scape_dataset_val.txt\", val_data, base_path)\n",
    "write_dataset(\"full_rectified_scape_dataset_test.txt\", test_data, base_path)"
   ]
  },
  {
   "cell_type": "markdown",
   "metadata": {},
   "source": [
    "# Half size"
   ]
  },
  {
   "cell_type": "code",
   "execution_count": 3,
   "metadata": {},
   "outputs": [],
   "source": [
    "left_train_image_path     =  os.path.join(BASE_DIR, 'data_1/multicast_rect_reso_half/camera1')\n",
    "right_train_image_path    =  os.path.join(BASE_DIR, 'data_1/multicast_rect_reso_half/camera2')\n",
    "left_train_disparity_path =  os.path.join(BASE_DIR, 'data_1/ground_truth_pfm_rect_cor_disp_half')\n",
    "\n",
    "left_images      = sorted([img for img in os.listdir(left_train_image_path) if img.endswith('.png')])[24:]\n",
    "right_images     = sorted([img for img in os.listdir(right_train_image_path) if img.endswith('.png')])[24:]\n",
    "left_disparities = sorted([img for img in os.listdir(left_train_disparity_path) if img.endswith('.pfm')])[24:]"
   ]
  },
  {
   "cell_type": "code",
   "execution_count": null,
   "metadata": {},
   "outputs": [],
   "source": [
    "left_images"
   ]
  },
  {
   "cell_type": "code",
   "execution_count": 5,
   "metadata": {},
   "outputs": [],
   "source": [
    "assert len(left_images) == len(right_images) == len(left_disparities), \"Mismatch in dataset sizes!\"\n",
    "\n",
    "data = list(zip(left_images, right_images, left_disparities))\n",
    "\n",
    "train_data, temp_data = train_test_split(data, test_size=0.2, random_state=42)\n",
    "val_data, test_data = train_test_split(temp_data, test_size=0.5, random_state=42)\n",
    "\n",
    "def write_dataset(file_path, dataset, base_path):\n",
    "    with open(file_path, \"w\") as f:\n",
    "        for left_image, right_image, left_disparity in dataset:\n",
    "            left_image_path     = os.path.join(base_path, \"multicast_rect_reso_half/camera1\", left_image)\n",
    "            right_image_path    = os.path.join(base_path, \"multicast_rect_reso_half/camera2\", right_image)\n",
    "            left_disparity_path = os.path.join(base_path, \"ground_truth_pfm_rect_cor_disp_half\", left_disparity)\n",
    "            f.write(left_image_path + \" \" + right_image_path + \" \" + left_disparity_path + \"\\n\")\n",
    "\n",
    "base_path = \"data/data_1\"\n",
    "\n",
    "write_dataset(\"half_rectified_scape_dataset_train.txt\", train_data, base_path)\n",
    "write_dataset(\"half_rectified_scape_dataset_val.txt\", val_data, base_path)\n",
    "write_dataset(\"half_rectified_scape_dataset_test.txt\", test_data, base_path)"
   ]
  },
  {
   "cell_type": "markdown",
   "metadata": {},
   "source": [
    "# COMBINED DATASET 1 ADN DATASET 2"
   ]
  },
  {
   "cell_type": "code",
   "execution_count": 6,
   "metadata": {},
   "outputs": [],
   "source": [
    "left_train_image_path1     = os.path.join(BASE_DIR, 'data_1/multicast_rect_reso/camera1')\n",
    "right_train_image_path1    = os.path.join(BASE_DIR, 'data_1/multicast_rect_reso/camera2')\n",
    "left_train_disparity_path1 = os.path.join(BASE_DIR, 'data_1/ground_truth_pfm_rect_cor_disp')\n",
    "\n",
    "left_images1      = sorted([img for img in os.listdir(left_train_image_path1) if img.endswith('.png')])[24:]\n",
    "right_images1     = sorted([img for img in os.listdir(right_train_image_path1) if img.endswith('.png')])[24:]\n",
    "left_disparities1 = sorted([img for img in os.listdir(left_train_disparity_path1) if img.endswith('.pfm')])[24:]\n",
    "\n",
    "left_train_image_path2     = os.path.join(BASE_DIR, 'data_2/multicast_rect_reso/camera1')\n",
    "right_train_image_path2    = os.path.join(BASE_DIR, 'data_2/multicast_rect_reso/camera2')\n",
    "left_train_disparity_path2 = os.path.join(BASE_DIR, 'data_2/ground_truth_pfm_rect_cor_disp')\n",
    "\n",
    "left_images2      = sorted([img for img in os.listdir(left_train_image_path2) if img.endswith('.png')])[1:]\n",
    "right_images2     = sorted([img for img in os.listdir(right_train_image_path2) if img.endswith('.png')])[1:]\n",
    "left_disparities2 = sorted([img for img in os.listdir(left_train_disparity_path2) if img.endswith('.pfm')])[1:]\n",
    "\n",
    "data1 = [(img, 'data_1') for img in left_images1]\n",
    "data2 = [(img, 'data_2') for img in left_images2]\n",
    "left_images = data1 + data2\n",
    "\n",
    "data1 = [(img, 'data_1') for img in right_images1]\n",
    "data2 = [(img, 'data_2') for img in right_images2]\n",
    "right_images = data1 + data2\n",
    "\n",
    "data1 = [(img, 'data_1') for img in left_disparities1]\n",
    "data2 = [(img, 'data_2') for img in left_disparities2]\n",
    "left_disparities = data1 + data2\n",
    "\n",
    "assert len(left_images) == len(right_images) == len(left_disparities), \"Mismatch in dataset sizes!\"\n",
    "\n",
    "data = list(zip(left_images, right_images, left_disparities))\n",
    "\n",
    "train_data, temp_data = train_test_split(data, test_size=0.2, random_state=42)\n",
    "val_data, test_data = train_test_split(temp_data, test_size=0.5, random_state=42)\n",
    "\n",
    "def write_dataset(file_path, dataset, base_dir):\n",
    "    with open(file_path, \"w\") as f:\n",
    "        for (left_image, left_dataset), (right_image, right_dataset), (left_disparity, disparity_dataset) in dataset:\n",
    "            base_path_left = os.path.join('data', left_dataset)\n",
    "            base_path_right = os.path.join('data', right_dataset)\n",
    "            base_path_disparity = os.path.join('data', disparity_dataset)\n",
    "            \n",
    "            left_image_path     = os.path.join(base_path_left, 'multicast_rect_reso/camera1', left_image)\n",
    "            right_image_path    = os.path.join(base_path_right, 'multicast_rect_reso/camera2', right_image)\n",
    "            left_disparity_path = os.path.join(base_path_disparity, 'ground_truth_pfm_rect_cor_disp', left_disparity)\n",
    "            \n",
    "            f.write(left_image_path + \" \" + right_image_path + \" \" + left_disparity_path + \"\\n\")\n",
    "\n",
    "write_dataset(\"full_combined_rectified_scape_dataset_train.txt\", train_data, BASE_DIR)\n",
    "write_dataset(\"full_combined_rectified_scape_dataset_val.txt\", val_data, BASE_DIR)\n",
    "write_dataset(\"full_combined_rectified_scape_dataset_test.txt\", test_data, BASE_DIR)"
   ]
  },
  {
   "cell_type": "markdown",
   "metadata": {},
   "source": [
    "# COMBINED DATASET 1 ADN DATASET 2 HALF SIZE"
   ]
  },
  {
   "cell_type": "code",
   "execution_count": 7,
   "metadata": {},
   "outputs": [],
   "source": [
    "left_train_image_path1     = os.path.join(BASE_DIR, 'data_1/multicast_rect_reso_half/camera1')\n",
    "right_train_image_path1    = os.path.join(BASE_DIR, 'data_1/multicast_rect_reso_half/camera2')\n",
    "left_train_disparity_path1 = os.path.join(BASE_DIR, 'data_1/ground_truth_pfm_rect_cor_disp_half')\n",
    "\n",
    "left_images1      = sorted([img for img in os.listdir(left_train_image_path1) if img.endswith('.png')])[24:]\n",
    "right_images1     = sorted([img for img in os.listdir(right_train_image_path1) if img.endswith('.png')])[24:]\n",
    "left_disparities1 = sorted([img for img in os.listdir(left_train_disparity_path1) if img.endswith('.pfm')])[24:]\n",
    "\n",
    "left_train_image_path2     = os.path.join(BASE_DIR, 'data_2/multicast_rect_reso_half/camera1')\n",
    "right_train_image_path2    = os.path.join(BASE_DIR, 'data_2/multicast_rect_reso_half/camera2')\n",
    "left_train_disparity_path2 = os.path.join(BASE_DIR, 'data_2/ground_truth_pfm_rect_cor_disp_half')\n",
    "\n",
    "left_images2      = sorted([img for img in os.listdir(left_train_image_path2) if img.endswith('.png')])[1:]\n",
    "right_images2     = sorted([img for img in os.listdir(right_train_image_path2) if img.endswith('.png')])[1:]\n",
    "left_disparities2 = sorted([img for img in os.listdir(left_train_disparity_path2) if img.endswith('.pfm')])[1:]\n",
    "\n",
    "data1 = [(img, 'data_1') for img in left_images1]\n",
    "data2 = [(img, 'data_2') for img in left_images2]\n",
    "left_images = data1 + data2\n",
    "\n",
    "data1 = [(img, 'data_1') for img in right_images1]\n",
    "data2 = [(img, 'data_2') for img in right_images2]\n",
    "right_images = data1 + data2\n",
    "\n",
    "data1 = [(img, 'data_1') for img in left_disparities1]\n",
    "data2 = [(img, 'data_2') for img in left_disparities2]\n",
    "left_disparities = data1 + data2\n",
    "\n",
    "assert len(left_images) == len(right_images) == len(left_disparities), \"Mismatch in dataset sizes!\"\n",
    "\n",
    "data = list(zip(left_images, right_images, left_disparities))\n",
    "\n",
    "train_data, temp_data = train_test_split(data, test_size=0.2, random_state=42)\n",
    "val_data, test_data = train_test_split(temp_data, test_size=0.5, random_state=42)\n",
    "\n",
    "def write_dataset(file_path, dataset, base_dir):\n",
    "    with open(file_path, \"w\") as f:\n",
    "        for (left_image, left_dataset), (right_image, right_dataset), (left_disparity, disparity_dataset) in dataset:\n",
    "            base_path_left = os.path.join('data', left_dataset)\n",
    "            base_path_right = os.path.join('data', right_dataset)\n",
    "            base_path_disparity = os.path.join('data', disparity_dataset)\n",
    "            \n",
    "            left_image_path     = os.path.join(base_path_left, 'multicast_rect_reso_half/camera1', left_image)\n",
    "            right_image_path    = os.path.join(base_path_right, 'multicast_rect_reso_half/camera2', right_image)\n",
    "            left_disparity_path = os.path.join(base_path_disparity, 'ground_truth_pfm_rect_cor_disp_half', left_disparity)\n",
    "            \n",
    "            f.write(left_image_path + \" \" + right_image_path + \" \" + left_disparity_path + \"\\n\")\n",
    "\n",
    "write_dataset(\"half_combined_rectified_scape_dataset_train.txt\", train_data, BASE_DIR)\n",
    "write_dataset(\"half_combined_rectified_scape_dataset_val.txt\", val_data, BASE_DIR)\n",
    "write_dataset(\"half_combined_rectified_scape_dataset_test.txt\", test_data, BASE_DIR)"
   ]
  },
  {
   "cell_type": "markdown",
   "metadata": {},
   "source": [
    "# COMBINED DATASET AUGMENTED 1 AND DATASET AUGMENTED 2"
   ]
  },
  {
   "cell_type": "code",
   "execution_count": 28,
   "metadata": {},
   "outputs": [],
   "source": [
    "left_train_image_path1     = os.path.join(BASE_DIR, 'data_1/multicast_rect_reso_aug/camera1')\n",
    "right_train_image_path1    = os.path.join(BASE_DIR, 'data_1/multicast_rect_reso_aug/camera2')\n",
    "left_train_disparity_path1 = os.path.join(BASE_DIR, 'data_1/ground_truth_pfm_rect_cor_disp_aug')\n",
    "\n",
    "left_images1      = sorted([img for img in os.listdir(left_train_image_path1) if img.endswith('.png')])\n",
    "right_images1     = sorted([img for img in os.listdir(right_train_image_path1) if img.endswith('.png')])\n",
    "left_disparities1 = sorted([img for img in os.listdir(left_train_disparity_path1) if img.endswith('.pfm')])\n",
    "\n",
    "left_train_image_path2     = os.path.join(BASE_DIR, 'data_2/multicast_rect_reso_aug/camera1')\n",
    "right_train_image_path2    = os.path.join(BASE_DIR, 'data_2/multicast_rect_reso_aug/camera2')\n",
    "left_train_disparity_path2 = os.path.join(BASE_DIR, 'data_2/ground_truth_pfm_rect_cor_disp_aug')\n",
    "\n",
    "left_images2      = sorted([img for img in os.listdir(left_train_image_path2) if img.endswith('.png')])\n",
    "right_images2     = sorted([img for img in os.listdir(right_train_image_path2) if img.endswith('.png')])\n",
    "left_disparities2 = sorted([img for img in os.listdir(left_train_disparity_path2) if img.endswith('.pfm')])\n",
    "\n",
    "data1 = [(img, 'data_1') for img in left_images1]\n",
    "data2 = [(img, 'data_2') for img in left_images2]\n",
    "left_images = data1 + data2\n",
    "\n",
    "data1 = [(img, 'data_1') for img in right_images1]\n",
    "data2 = [(img, 'data_2') for img in right_images2]\n",
    "right_images = data1 + data2\n",
    "\n",
    "data1 = [(img, 'data_1') for img in left_disparities1]\n",
    "data2 = [(img, 'data_2') for img in left_disparities2]\n",
    "left_disparities = data1 + data2\n",
    "\n",
    "assert len(left_images) == len(right_images) == len(left_disparities), \"Mismatch in dataset sizes!\"\n",
    "\n",
    "data = list(zip(left_images, right_images, left_disparities))\n",
    "\n",
    "train_data, temp_data = train_test_split(data, test_size=0.2, random_state=42)\n",
    "val_data, test_data = train_test_split(temp_data, test_size=0.5, random_state=42)\n",
    "\n",
    "def write_dataset(file_path, dataset, base_dir):\n",
    "    with open(file_path, \"w\") as f:\n",
    "        for (left_image, left_dataset), (right_image, right_dataset), (left_disparity, disparity_dataset) in dataset:\n",
    "            base_path_left = os.path.join('data', left_dataset)\n",
    "            base_path_right = os.path.join('data', right_dataset)\n",
    "            base_path_disparity = os.path.join('data', disparity_dataset)\n",
    "            \n",
    "            left_image_path     = os.path.join(base_path_left, 'multicast_rect_reso_aug/camera1', left_image)\n",
    "            right_image_path    = os.path.join(base_path_right, 'multicast_rect_reso_aug/camera2', right_image)\n",
    "            left_disparity_path = os.path.join(base_path_disparity, 'ground_truth_pfm_rect_cor_disp_aug', left_disparity)\n",
    "            \n",
    "            f.write(left_image_path + \" \" + right_image_path + \" \" + left_disparity_path + \"\\n\")\n",
    "\n",
    "write_dataset(\"full_aug_combined_rectified_scape_dataset_train.txt\", train_data, BASE_DIR)\n",
    "write_dataset(\"full_aug_combined_rectified_scape_dataset_val.txt\", val_data, BASE_DIR)\n",
    "write_dataset(\"full_aug_combined_rectified_scape_dataset_test.txt\", test_data, BASE_DIR)"
   ]
  },
  {
   "cell_type": "markdown",
   "metadata": {},
   "source": [
    "# COMBINED DATASET AUGMENTED 1 AND DATASET AUGMENTED 2 HALF"
   ]
  },
  {
   "cell_type": "code",
   "execution_count": 29,
   "metadata": {},
   "outputs": [],
   "source": [
    "left_train_image_path1     = os.path.join(BASE_DIR, 'data_1/multicast_rect_reso_half_aug/camera1')\n",
    "right_train_image_path1    = os.path.join(BASE_DIR, 'data_1/multicast_rect_reso_half_aug/camera2')\n",
    "left_train_disparity_path1 = os.path.join(BASE_DIR, 'data_1/ground_truth_pfm_rect_cor_disp_half_aug')\n",
    "\n",
    "left_images1      = sorted([img for img in os.listdir(left_train_image_path1) if img.endswith('.png')])\n",
    "right_images1     = sorted([img for img in os.listdir(right_train_image_path1) if img.endswith('.png')])\n",
    "left_disparities1 = sorted([img for img in os.listdir(left_train_disparity_path1) if img.endswith('.pfm')])\n",
    "\n",
    "left_train_image_path2     = os.path.join(BASE_DIR, 'data_2/multicast_rect_reso_half_aug/camera1')\n",
    "right_train_image_path2    = os.path.join(BASE_DIR, 'data_2/multicast_rect_reso_half_aug/camera2')\n",
    "left_train_disparity_path2 = os.path.join(BASE_DIR, 'data_2/ground_truth_pfm_rect_cor_disp_half_aug')\n",
    "\n",
    "left_images2      = sorted([img for img in os.listdir(left_train_image_path2) if img.endswith('.png')])\n",
    "right_images2     = sorted([img for img in os.listdir(right_train_image_path2) if img.endswith('.png')])\n",
    "left_disparities2 = sorted([img for img in os.listdir(left_train_disparity_path2) if img.endswith('.pfm')])\n",
    "\n",
    "data1 = [(img, 'data_1') for img in left_images1]\n",
    "data2 = [(img, 'data_2') for img in left_images2]\n",
    "left_images = data1 + data2\n",
    "\n",
    "data1 = [(img, 'data_1') for img in right_images1]\n",
    "data2 = [(img, 'data_2') for img in right_images2]\n",
    "right_images = data1 + data2\n",
    "\n",
    "data1 = [(img, 'data_1') for img in left_disparities1]\n",
    "data2 = [(img, 'data_2') for img in left_disparities2]\n",
    "left_disparities = data1 + data2\n",
    "\n",
    "assert len(left_images) == len(right_images) == len(left_disparities), \"Mismatch in dataset sizes!\"\n",
    "\n",
    "data = list(zip(left_images, right_images, left_disparities))\n",
    "\n",
    "train_data, temp_data = train_test_split(data, test_size=0.2, random_state=42)\n",
    "val_data, test_data = train_test_split(temp_data, test_size=0.5, random_state=42)\n",
    "\n",
    "def write_dataset(file_path, dataset, base_dir):\n",
    "    with open(file_path, \"w\") as f:\n",
    "        for (left_image, left_dataset), (right_image, right_dataset), (left_disparity, disparity_dataset) in dataset:\n",
    "            base_path_left = os.path.join('data', left_dataset)\n",
    "            base_path_right = os.path.join('data', right_dataset)\n",
    "            base_path_disparity = os.path.join('data', disparity_dataset)\n",
    "            \n",
    "            left_image_path     = os.path.join(base_path_left, 'multicast_rect_reso_half_aug/camera1', left_image)\n",
    "            right_image_path    = os.path.join(base_path_right, 'multicast_rect_reso_half_aug/camera2', right_image)\n",
    "            left_disparity_path = os.path.join(base_path_disparity, 'ground_truth_pfm_rect_cor_disp_half_aug', left_disparity)\n",
    "            \n",
    "            f.write(left_image_path + \" \" + right_image_path + \" \" + left_disparity_path + \"\\n\")\n",
    "\n",
    "write_dataset(\"half_aug_combined_rectified_scape_dataset_train.txt\", train_data, BASE_DIR)\n",
    "write_dataset(\"half_aug_combined_rectified_scape_dataset_val.txt\", val_data, BASE_DIR)\n",
    "write_dataset(\"half_aug_combined_rectified_scape_dataset_test.txt\", test_data, BASE_DIR)"
   ]
  }
 ],
 "metadata": {
  "kernelspec": {
   "display_name": "speciale",
   "language": "python",
   "name": "python3"
  },
  "language_info": {
   "codemirror_mode": {
    "name": "ipython",
    "version": 3
   },
   "file_extension": ".py",
   "mimetype": "text/x-python",
   "name": "python",
   "nbconvert_exporter": "python",
   "pygments_lexer": "ipython3",
   "version": "3.11.0"
  }
 },
 "nbformat": 4,
 "nbformat_minor": 2
}
