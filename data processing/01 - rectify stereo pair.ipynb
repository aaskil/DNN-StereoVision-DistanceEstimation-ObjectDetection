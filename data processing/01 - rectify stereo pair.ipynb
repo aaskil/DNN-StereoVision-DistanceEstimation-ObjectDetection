{
 "cells": [
  {
   "cell_type": "code",
   "execution_count": null,
   "metadata": {},
   "outputs": [],
   "source": [
    "from calibration_functions import *\n",
    "\n",
    "import cv2\n",
    "import json\n",
    "import matplotlib.pyplot as plt\n",
    "import numpy as np\n",
    "import os\n",
    "import pandas as pd\n",
    "import re\n",
    "import sys"
   ]
  },
  {
   "cell_type": "code",
   "execution_count": null,
   "metadata": {},
   "outputs": [],
   "source": [
    "with open('../config.json') as f:\n",
    "    config = json.load(f)\n",
    "BASE_DIR = config[\"BASE_DIR\"]"
   ]
  },
  {
   "cell_type": "markdown",
   "metadata": {},
   "source": [
    "# Rectification script"
   ]
  },
  {
   "cell_type": "code",
   "execution_count": null,
   "metadata": {},
   "outputs": [],
   "source": [
    "\n",
    "image_list_left = [\n",
    "    BASE_DIR + 'data_1/multicast/camera1/image_000.jpg',\n",
    "    BASE_DIR + 'data_1/multicast/camera1/image_001.jpg',\n",
    "    # BASE_DIR + 'data_1/multicast/camera1/image_002.jpg',\n",
    "    # BASE_DIR + 'data_1/multicast/camera1/image_003.jpg',\n",
    "    BASE_DIR + 'data_1/multicast/camera1/image_004.jpg',\n",
    "    BASE_DIR + 'data_1/multicast/camera1/image_005.jpg',\n",
    "    BASE_DIR + 'data_1/multicast/camera1/image_006.jpg',\n",
    "    # BASE_DIR + 'data_1/multicast/camera1/image_007.jpg',\n",
    "    # BASE_DIR + 'data_1/multicast/camera1/image_008.jpg',\n",
    "    BASE_DIR + 'data_1/multicast/camera1/image_009.jpg',\n",
    "    BASE_DIR + 'data_1/multicast/camera1/image_010.jpg',\n",
    "    BASE_DIR + 'data_1/multicast/camera1/image_011.jpg',\n",
    "    # BASE_DIR + 'data_1/multicast/camera1/image_012.jpg',\n",
    "    BASE_DIR + 'data_1/multicast/camera1/image_013.jpg',\n",
    "]\n",
    "\n",
    "image_list_right = [\n",
    "    BASE_DIR + 'data_1/multicast/camera2/image_000.jpg',\n",
    "    BASE_DIR + 'data_1/multicast/camera2/image_001.jpg',\n",
    "    # BASE_DIR + 'data_1/multicast/camera2/image_002.jpg',\n",
    "    # BASE_DIR + 'data_1/multicast/camera2/image_003.jpg',\n",
    "    BASE_DIR + 'data_1/multicast/camera2/image_004.jpg',\n",
    "    BASE_DIR + 'data_1/multicast/camera2/image_005.jpg',\n",
    "    BASE_DIR + 'data_1/multicast/camera2/image_006.jpg',\n",
    "    # BASE_DIR + 'data_1/multicast/camera2/image_007.jpg',\n",
    "    # BASE_DIR + 'data_1/multicast/camera2/image_008.jpg',\n",
    "    BASE_DIR + 'data_1/multicast/camera2/image_009.jpg',\n",
    "    BASE_DIR + 'data_1/multicast/camera2/image_010.jpg',\n",
    "    BASE_DIR + 'data_1/multicast/camera2/image_011.jpg',\n",
    "    # BASE_DIR + 'data_1/multicast/camera2/image_012.jpg',\n",
    "    BASE_DIR + 'data_1/multicast/camera2/image_013.jpg',\n",
    "]\n",
    "\n",
    "criteria = (cv2.TERM_CRITERIA_EPS + cv2.TERM_CRITERIA_MAX_ITER, 30, 0.001)\n",
    "chessboard_size = (6, 10)\n",
    "frame_size = cv2.imread(image_list_left[0]).shape[:2][::-1]\n",
    "\n",
    "objp = np.zeros((chessboard_size[0] * chessboard_size[1], 3), np.float32)\n",
    "objp[:, :2] = np.mgrid[0:chessboard_size[0], 0:chessboard_size[1]].T.reshape(-1, 2)\n",
    "# objp = objp * 17.5\n",
    "\n",
    "objpoints = []\n",
    "imgpoints_left = []\n",
    "imgpoints_right = []\n",
    "\n",
    "for fname_left, fname_right in zip(image_list_left, image_list_right):\n",
    "    img_left = cv2.imread(fname_left)\n",
    "    img_right = cv2.imread(fname_right)\n",
    "    gray_left = cv2.cvtColor(img_left, cv2.COLOR_BGR2GRAY)\n",
    "    gray_right = cv2.cvtColor(img_right, cv2.COLOR_BGR2GRAY)\n",
    "\n",
    "    ret_left, corners_left = cv2.findChessboardCorners(gray_left, chessboard_size, None)\n",
    "    ret_right, corners_right = cv2.findChessboardCorners(gray_right, chessboard_size, None)\n",
    "    \n",
    "    if ret_left and ret_right:\n",
    "        objpoints.append(objp)\n",
    "\n",
    "        corners_left = cv2.cornerSubPix(gray_left, corners_left, (11, 11), (-1, -1), criteria)\n",
    "        imgpoints_left.append(corners_left)\n",
    "\n",
    "        corners_right = cv2.cornerSubPix(gray_right, corners_right, (11, 11), (-1, -1), criteria)\n",
    "        imgpoints_right.append(corners_right)\n",
    "        \n",
    "        cv2.drawChessboardCorners(img_left, chessboard_size, corners_left, ret_left)\n",
    "        cv2.drawChessboardCorners(img_right, chessboard_size, corners_right, ret_right)\n",
    "        \n",
    "        fig, axes = plt.subplots(1, 2, figsize=(15, 10))\n",
    "        axes[0].imshow(cv2.cvtColor(img_left, cv2.COLOR_BGR2RGB))\n",
    "        axes[0].axis('off')\n",
    "        \n",
    "        axes[1].imshow(cv2.cvtColor(img_right, cv2.COLOR_BGR2RGB))\n",
    "        axes[1].axis('off')\n",
    "        \n",
    "        plt.show()\n",
    "\n",
    "ret_left, mtx_left, dist_left, rvecs_left, tvecs_left = cv2.calibrateCamera(objpoints, imgpoints_left, frame_size, None, None)\n",
    "newcameramtx_left, roi_left = cv2.getOptimalNewCameraMatrix(mtx_left, dist_left, frame_size, 0, frame_size)\n",
    "\n",
    "ret_right, mtx_right, dist_right, rvecs_right, tvecs_right = cv2.calibrateCamera(objpoints, imgpoints_right, frame_size, None, None)\n",
    "newcameramtx_right, roi_right = cv2.getOptimalNewCameraMatrix(mtx_right, dist_right, frame_size, 0, frame_size)\n",
    "\n",
    "flags = cv2.CALIB_FIX_INTRINSIC\n",
    "ret, mtx_left, dist_left, mtx_right, dist_right, R, T, E, F = cv2.stereoCalibrate(\n",
    "    objpoints, imgpoints_left, imgpoints_right, newcameramtx_left, dist_left, newcameramtx_right, dist_right, frame_size, criteria=criteria, flags=flags\n",
    ")\n",
    "\n",
    "R1, R2, P1, P2, Q, roi1, roi2 = cv2.stereoRectify(mtx_left, dist_left, mtx_right, dist_right, frame_size, R, T, 1)\n",
    "\n",
    "map1_left, map2_left = cv2.initUndistortRectifyMap(mtx_left, dist_left, R1, P1, frame_size, cv2.CV_16SC2)\n",
    "map1_right, map2_right = cv2.initUndistortRectifyMap(mtx_right, dist_right, R2, P2, frame_size, cv2.CV_16SC2)\n",
    "\n",
    "for fname_left, fname_right in zip(image_list_left, image_list_right):\n",
    "    img_left = cv2.imread(fname_left)\n",
    "    img_right = cv2.imread(fname_right)\n",
    "    \n",
    "    img_left_rectified = cv2.remap(img_left, map1_left, map2_left, cv2.INTER_LANCZOS4)\n",
    "    img_right_rectified = cv2.remap(img_right, map1_right, map2_right, cv2.INTER_LANCZOS4)\n",
    "\n",
    "    img_left_rectified = cv2.remap(img_left, map1_left, map2_left, cv2.INTER_LANCZOS4, cv2.BORDER_CONSTANT, 0)\n",
    "    img_right_rectified = cv2.remap(img_right, map1_right, map2_right, cv2.INTER_LANCZOS4, cv2.BORDER_CONSTANT, 0)\n",
    "    \n",
    "    fig, axes = plt.subplots(1, 2, figsize=(15, 10))\n",
    "    axes[0].imshow(cv2.cvtColor(img_left_rectified, cv2.COLOR_BGR2RGB))\n",
    "    axes[0].axis('off')\n",
    "    \n",
    "    axes[1].imshow(cv2.cvtColor(img_right_rectified, cv2.COLOR_BGR2RGB))\n",
    "    axes[1].axis('off')\n",
    "\n",
    "    plt.show()"
   ]
  },
  {
   "cell_type": "markdown",
   "metadata": {},
   "source": [
    "# Rectify dataset 1"
   ]
  },
  {
   "cell_type": "code",
   "execution_count": null,
   "metadata": {},
   "outputs": [],
   "source": [
    "# pmf_path           = BASE_DIR + '/data_1/ground_truth_pfm_disparity_half'\n",
    "image_folder_left  = os.path.join(BASE_DIR, 'data_1/multicast/camera1')\n",
    "image_folder_right = os.path.join(BASE_DIR, 'data_1/multicast/camera2')\n",
    "\n",
    "\n",
    "# list_of_pfm_files = sorted([pfm for pfm in os.listdir(pmf_path) if pfm.endswith('.pfm')])\n",
    "list_of_image_files_left = sorted([image for image in os.listdir(image_folder_left) if image.endswith('.jpg')])\n",
    "list_of_image_files_right = sorted([image for image in os.listdir(image_folder_right) if image.endswith('.jpg')])"
   ]
  },
  {
   "cell_type": "code",
   "execution_count": null,
   "metadata": {},
   "outputs": [],
   "source": [
    "output_folder_left_rectified  = os.path.join(BASE_DIR, 'data_1/multicast_rect/camera1')\n",
    "output_folder_right_rectified = os.path.join(BASE_DIR, 'data_1/multicast_rect/camera2')\n",
    "\n",
    "os.makedirs(output_folder_left_rectified, exist_ok=True)\n",
    "os.makedirs(output_folder_right_rectified, exist_ok=True)\n",
    "\n",
    "for fname_left, fname_right in zip(list_of_image_files_left, list_of_image_files_right):\n",
    "\n",
    "    img_left = cv2.imread(os.path.join(image_folder_left, fname_left))\n",
    "    img_left_rectified = cv2.remap(img_left, map1_left, map2_left, cv2.INTER_LANCZOS4)\n",
    "    output_path_left = os.path.join(output_folder_left_rectified, fname_left)\n",
    "    cv2.imwrite(output_path_left, img_left_rectified)\n",
    "\n",
    "    img_right = cv2.imread(os.path.join(image_folder_right, fname_right))\n",
    "    img_right_rectified = cv2.remap(img_right, map1_right, map2_right, cv2.INTER_LANCZOS4)\n",
    "    output_path_right = os.path.join(output_folder_right_rectified, fname_right)\n",
    "    cv2.imwrite(output_path_right, img_right_rectified)\n",
    "\n",
    "print(\"Rectified images and depth maps have been saved.\")"
   ]
  },
  {
   "cell_type": "markdown",
   "metadata": {},
   "source": [
    "# Rectify dataset 2"
   ]
  },
  {
   "cell_type": "code",
   "execution_count": 22,
   "metadata": {},
   "outputs": [],
   "source": [
    "# pmf_path           = BASE_DIR + '/data_1/ground_truth_pfm_disparity_half'\n",
    "image_folder_left  = os.path.join(BASE_DIR, 'data_2/multicast/camera1')\n",
    "image_folder_right = os.path.join(BASE_DIR, 'data_2/multicast/camera2')\n",
    "\n",
    "\n",
    "# list_of_pfm_files = sorted([pfm for pfm in os.listdir(pmf_path) if pfm.endswith('.pfm')])\n",
    "list_of_image_files_left = sorted([image for image in os.listdir(image_folder_left) if image.endswith('.jpg')])\n",
    "list_of_image_files_right = sorted([image for image in os.listdir(image_folder_right) if image.endswith('.jpg')])"
   ]
  },
  {
   "cell_type": "code",
   "execution_count": 23,
   "metadata": {},
   "outputs": [
    {
     "name": "stdout",
     "output_type": "stream",
     "text": [
      "Rectified images and depth maps have been saved.\n"
     ]
    }
   ],
   "source": [
    "output_folder_left_rectified  = os.path.join(BASE_DIR, 'data_2/multicast_rect/camera1')\n",
    "output_folder_right_rectified = os.path.join(BASE_DIR, 'data_2/multicast_rect/camera2')\n",
    "\n",
    "os.makedirs(output_folder_left_rectified, exist_ok=True)\n",
    "os.makedirs(output_folder_right_rectified, exist_ok=True)\n",
    "\n",
    "for fname_left, fname_right in zip(list_of_image_files_left, list_of_image_files_right):\n",
    "\n",
    "    img_left = cv2.imread(os.path.join(image_folder_left, fname_left))\n",
    "    img_left_rectified = cv2.remap(img_left, map1_left, map2_left, cv2.INTER_LANCZOS4)\n",
    "    output_path_left = os.path.join(output_folder_left_rectified, fname_left)\n",
    "    cv2.imwrite(output_path_left, img_left_rectified)\n",
    "\n",
    "    img_right = cv2.imread(os.path.join(image_folder_right, fname_right))\n",
    "    img_right_rectified = cv2.remap(img_right, map1_right, map2_right, cv2.INTER_LANCZOS4)\n",
    "    output_path_right = os.path.join(output_folder_right_rectified, fname_right)\n",
    "    cv2.imwrite(output_path_right, img_right_rectified)\n",
    "\n",
    "print(\"Rectified images and depth maps have been saved.\")"
   ]
  },
  {
   "cell_type": "markdown",
   "metadata": {},
   "source": [
    "# Rectify dataset 3"
   ]
  },
  {
   "cell_type": "code",
   "execution_count": 24,
   "metadata": {},
   "outputs": [],
   "source": [
    "# pmf_path           = BASE_DIR + '/data_1/ground_truth_pfm_disparity_half'\n",
    "image_folder_left  = os.path.join(BASE_DIR, 'data_3/multicast/camera1')\n",
    "image_folder_right = os.path.join(BASE_DIR, 'data_3/multicast/camera2')\n",
    "\n",
    "\n",
    "# list_of_pfm_files = sorted([pfm for pfm in os.listdir(pmf_path) if pfm.endswith('.pfm')])\n",
    "list_of_image_files_left = sorted([image for image in os.listdir(image_folder_left) if image.endswith('.jpg')])\n",
    "list_of_image_files_right = sorted([image for image in os.listdir(image_folder_right) if image.endswith('.jpg')])"
   ]
  },
  {
   "cell_type": "code",
   "execution_count": 25,
   "metadata": {},
   "outputs": [
    {
     "name": "stdout",
     "output_type": "stream",
     "text": [
      "Rectified images and depth maps have been saved.\n"
     ]
    }
   ],
   "source": [
    "output_folder_left_rectified  = os.path.join(BASE_DIR, 'data_3/multicast_rect/camera1')\n",
    "output_folder_right_rectified = os.path.join(BASE_DIR, 'data_3/multicast_rect/camera2')\n",
    "\n",
    "os.makedirs(output_folder_left_rectified, exist_ok=True)\n",
    "os.makedirs(output_folder_right_rectified, exist_ok=True)\n",
    "\n",
    "for fname_left, fname_right in zip(list_of_image_files_left, list_of_image_files_right):\n",
    "\n",
    "    img_left = cv2.imread(os.path.join(image_folder_left, fname_left))\n",
    "    img_left_rectified = cv2.remap(img_left, map1_left, map2_left, cv2.INTER_LANCZOS4)\n",
    "    output_path_left = os.path.join(output_folder_left_rectified, fname_left)\n",
    "    cv2.imwrite(output_path_left, img_left_rectified)\n",
    "\n",
    "    img_right = cv2.imread(os.path.join(image_folder_right, fname_right))\n",
    "    img_right_rectified = cv2.remap(img_right, map1_right, map2_right, cv2.INTER_LANCZOS4)\n",
    "    output_path_right = os.path.join(output_folder_right_rectified, fname_right)\n",
    "    cv2.imwrite(output_path_right, img_right_rectified)\n",
    "\n",
    "print(\"Rectified images and depth maps have been saved.\")"
   ]
  },
  {
   "cell_type": "code",
   "execution_count": null,
   "metadata": {},
   "outputs": [],
   "source": []
  }
 ],
 "metadata": {
  "kernelspec": {
   "display_name": "speciale",
   "language": "python",
   "name": "python3"
  },
  "language_info": {
   "codemirror_mode": {
    "name": "ipython",
    "version": 3
   },
   "file_extension": ".py",
   "mimetype": "text/x-python",
   "name": "python",
   "nbconvert_exporter": "python",
   "pygments_lexer": "ipython3",
   "version": "3.11.7"
  }
 },
 "nbformat": 4,
 "nbformat_minor": 2
}
